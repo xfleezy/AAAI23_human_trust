{
 "cells": [
  {
   "cell_type": "code",
   "execution_count": 488,
   "id": "a4023e3b",
   "metadata": {},
   "outputs": [],
   "source": [
    "# preprocess data\n",
    "import numpy as np\n",
    "import pandas as pd\n",
    "# from hmm import UnSupervisedIOHMM, SemiSupervisedIOHMM\n",
    "# from hmm import OLS,DiscreteMNL, CrossEntropyMNL\n",
    "\n",
    "import re\n",
    "import copy \n",
    "import numpy as np\n",
    "import pandas as pd\n",
    "from sklearn.preprocessing import OneHotEncoder\n",
    "from sklearn import preprocessing\n",
    "from sklearn.manifold import TSNE\n",
    "import numpy as np\n",
    "import pandas as pd\n",
    "\n",
    "from hmm import OLS,DiscreteMNL, CrossEntropyMNL\n",
    "from hmm import Trust_hmm\n",
    "import random\n"
   ]
  },
  {
   "cell_type": "code",
   "execution_count": null,
   "id": "58511a93",
   "metadata": {},
   "outputs": [],
   "source": []
  },
  {
   "cell_type": "code",
   "execution_count": null,
   "id": "c3769d4e",
   "metadata": {},
   "outputs": [],
   "source": []
  },
  {
   "cell_type": "code",
   "execution_count": null,
   "id": "9553e28c",
   "metadata": {},
   "outputs": [],
   "source": [
    "\n"
   ]
  },
  {
   "cell_type": "code",
   "execution_count": null,
   "id": "45217c4f",
   "metadata": {},
   "outputs": [],
   "source": [
    "\n",
    "  \n",
    "      \n"
   ]
  },
  {
   "cell_type": "code",
   "execution_count": 9,
   "id": "fddf4012",
   "metadata": {},
   "outputs": [],
   "source": []
  },
  {
   "cell_type": "code",
   "execution_count": 11,
   "id": "b7fbe9e5",
   "metadata": {},
   "outputs": [
    {
     "data": {
      "text/plain": [
       "<bound method BaseMNL.predict_log_proba of <linear_models.CrossEntropyMNL object at 0x7fd5438f6700>>"
      ]
     },
     "execution_count": 11,
     "metadata": {},
     "output_type": "execute_result"
    }
   ],
   "source": []
  },
  {
   "cell_type": "code",
   "execution_count": 12,
   "id": "d7decba4",
   "metadata": {},
   "outputs": [
    {
     "ename": "TypeError",
     "evalue": "predict_log_proba() missing 1 required positional argument: 'X'",
     "output_type": "error",
     "traceback": [
      "\u001b[0;31m---------------------------------------------------------------------------\u001b[0m",
      "\u001b[0;31mTypeError\u001b[0m                                 Traceback (most recent call last)",
      "\u001b[0;32m/var/folders/dy/kwk0q56105vcyx4cm7ryb62w0000gn/T/ipykernel_12192/3160216559.py\u001b[0m in \u001b[0;36m<module>\u001b[0;34m\u001b[0m\n\u001b[0;32m----> 1\u001b[0;31m \u001b[0mprob_initial\u001b[0m \u001b[0;34m=\u001b[0m \u001b[0mnp\u001b[0m\u001b[0;34m.\u001b[0m\u001b[0mexp\u001b[0m\u001b[0;34m(\u001b[0m\u001b[0mtrust_m\u001b[0m\u001b[0;34m.\u001b[0m\u001b[0mmodel_initial\u001b[0m\u001b[0;34m.\u001b[0m\u001b[0mpredict_log_proba\u001b[0m\u001b[0;34m(\u001b[0m\u001b[0;34m)\u001b[0m\u001b[0;34m.\u001b[0m\u001b[0mreshape\u001b[0m\u001b[0;34m(\u001b[0m\u001b[0mtrust_m\u001b[0m\u001b[0;34m.\u001b[0m\u001b[0mnum_states\u001b[0m\u001b[0;34m,\u001b[0m \u001b[0;34m)\u001b[0m\u001b[0;34m)\u001b[0m\u001b[0;34m\u001b[0m\u001b[0;34m\u001b[0m\u001b[0m\n\u001b[0m",
      "\u001b[0;31mTypeError\u001b[0m: predict_log_proba() missing 1 required positional argument: 'X'"
     ]
    }
   ],
   "source": []
  },
  {
   "cell_type": "code",
   "execution_count": 13,
   "id": "fac2792c",
   "metadata": {},
   "outputs": [
    {
     "data": {
      "text/plain": [
       "3"
      ]
     },
     "execution_count": 13,
     "metadata": {},
     "output_type": "execute_result"
    }
   ],
   "source": []
  },
  {
   "cell_type": "code",
   "execution_count": 619,
   "id": "43041e34",
   "metadata": {},
   "outputs": [],
   "source": []
  },
  {
   "cell_type": "code",
   "execution_count": 652,
   "id": "3e4cc4d5",
   "metadata": {},
   "outputs": [],
   "source": [
    "from statsmodels.tools import add_constant\n",
    "\n",
    "def trust_transition(model, inputs, state_src, state_dst):\n",
    "#     inputs = add_constant(inputs,has_constant='add')\n",
    "    prob = np.exp(model.model_transition[state_src].predict_log_proba(inputs)).reshape(model.num_states)\n",
    "    return prob[state_dst]\n",
    "\n",
    "def reliance_prob(model, inputs, state):\n",
    "#     inputs = add_constant(inputs,has_constant='add')\n",
    "\n",
    "    return np.exp(model.model_emissions[state][0].predict_log_proba(inputs)).reshape(2)\n",
    "\n",
    "\n",
    "def reward(model, state, confidence,attack, w_a, w_r, c):\n",
    "    inputs = np.array([[confidence, attack]])\n",
    "\n",
    "    r = 0\n",
    "    for i in range(model.num_states):\n",
    "\n",
    "        r += trust_transition(model, inputs, state, i)* (reliance_prob(model, inputs,i)[0]*w_r +\n",
    "                                                         reliance_prob(model, inputs,i)[1]*w_a - attack*c)\n",
    "    return r\n",
    "        \n",
    "def reward_belief(model, belief, confidence,attack, w_a, w_r, c):\n",
    "    r = 0\n",
    "    for i in range(belief.shape[0]):\n",
    "        r += belief[i] * reward(model, i, confidence, attack, w_a, w_r, c)\n",
    "    return r\n",
    "\n",
    "def EU_max(model, belief, confidence, attack, l, w_a, w_r, c):\n",
    "    if l < 1:\n",
    "        print(\"error: l should be greated than 1\")\n",
    "    if l == 1:\n",
    "        eu_max = reward_belief(model, belief, confidence, attack, w_a, w_r, c)\n",
    "        return eu_max\n",
    "    else:\n",
    "        r = reward_belief(model, belief, confidence, attack, w_a, w_r, c)\n",
    "        eu_max = r \n",
    "        for d in [0,1]:\n",
    "            sum_ = 0\n",
    "            updated_b = update_belief(model, belief, confidence, attack,reliance=d)\n",
    "            for k in range(belief.shape[0]):\n",
    "                b_k = belief[k]\n",
    "                inputs = np.array([[ confidence, attack]])\n",
    "                for i in range(model.num_states):\n",
    "                    \n",
    "                    sum_ += b_k*trust_transition(model, inputs, k, i)*(reliance_prob(model,inputs,i)[d]*max(0.5*(EU_max(model, updated_b,confidence=0,attack=0,l=l-1,w_a=w_a, w_r=w_r, c=c)\n",
    "                                                                                                              +EU_max(model, updated_b,confidence=1,attack=0,l=l-1,w_a=w_a, w_r=w_r, c=c)),\n",
    "                                                                                                         0.5*(EU_max(model, updated_b,confidence=0,attack=1,l=l-1,w_a=w_a, w_r=w_r, c=c)+EU_max(model, updated_b,confidence=1,attack=1,l=l-1,w_a=w_a, w_r=w_r, c=c))))\n",
    "            eu_max += sum_\n",
    "        return eu_max\n",
    "\n",
    "def update_belief(model,belief, confidence, attack, reliance, constant = 1):\n",
    "    updated_b = np.zeros_like(belief)\n",
    "    inputs = np.array([[confidence, attack]])\n",
    "    for j in range(belief.shape[0]):\n",
    "        for i in range(belief.shape[0]):\n",
    "            updated_b[j] += constant*belief[i]*trust_transition(model, inputs, state_src=i,state_dst=j)*reliance_prob(model, inputs, j)[reliance]\n",
    "    return updated_b\n",
    "    \n",
    "    \n",
    "def hmm_attack_helper(model, n, w_a, w_r, c, humans):\n",
    "    accept = 0\n",
    "    reject = 0\n",
    "    attack = 0\n",
    "    for h in humans:\n",
    "        b = np.array([1/model.num_states for i in range(model.num_states)])\n",
    "\n",
    "        tasks = assign_task(n)\n",
    "        for k, t in enumerate(tasks):\n",
    "            \n",
    "            action = np.argmax([EU_max(model, b, t, 0, n-k, w_a, w_r, c),EU_max(model, b, t, 1, n-k, w_a, w_r, c)])\n",
    "            \n",
    "            if t == 0 and action==0:\n",
    "                d = np.random.choice([0,1],p=[1-h[2],h[2]])\n",
    "            elif t == 1 and action==0:\n",
    "                d = np.random.choice([0,1],p=[1-h[3],h[3]])\n",
    "            elif t == 0 and action == 1:\n",
    "                attack+= 1\n",
    "                d = np.random.choice([0,1],p=[1-h[0],h[0]])\n",
    "            else:\n",
    "                attack+=1\n",
    "                d = np.random.choice([0,1],p=[1-h[1],h[1]]) \n",
    "            b = update_belief(model, b, t,action, d)\n",
    "            if d == 1:\n",
    "                accept += 1\n",
    "            else:\n",
    "                reject += 1\n",
    "    print(accept, reject, attack)\n",
    "    return w_a * accept + w_r * reject - attack*c\n",
    "    \n",
    "    \n",
    "    \n",
    "    "
   ]
  },
  {
   "cell_type": "code",
   "execution_count": null,
   "id": "6022daa9",
   "metadata": {},
   "outputs": [],
   "source": []
  },
  {
   "cell_type": "code",
   "execution_count": null,
   "id": "586988a2",
   "metadata": {},
   "outputs": [],
   "source": [
    "hmm_attack_helper(model, 20,0,0.5,0.15, test_humans)"
   ]
  },
  {
   "cell_type": "code",
   "execution_count": 581,
   "id": "6018b94f",
   "metadata": {},
   "outputs": [
    {
     "name": "stdout",
     "output_type": "stream",
     "text": [
      "[[<IOHMM.linear_models.DiscreteMNL object at 0x7fd51218cfd0>], [<IOHMM.linear_models.DiscreteMNL object at 0x7fd51218c8b0>]]\n",
      "[[-4.93775113  0.32891401 -0.2837964 ]]\n"
     ]
    }
   ],
   "source": [
    "#eval hmm-based algorithm\n",
    "\n",
    "#1. contruct human behavior data\n",
    "hmm_data = selected_data\n",
    "behavior_data = []\n",
    "hmm_data[\"reliance\"] = hmm_data[\"reliance\"].apply(lambda x: 1 if x == True else -1)\n",
    "hmm_data[\"attack\"] = hmm_data[\"attack\"].apply(lambda x:1 if x == 0 else x)\n",
    "hmm_data[\"human_confidence\"] = hmm_data[\"human_confidence\"].apply(lambda x:-1 if x == 0 else x)\n",
    "workers = list(set(selected_data[\"workerId\"]))\n",
    "for w in workers:\n",
    "    d = hmm_data.query(\"workerId==@w\").sort_values(by=[\"taskId\"])\n",
    "    behavior_data.append(d[[\"human_confidence\",\"attack\", \"reliance\"]])\n",
    "initial_columns = [\"human_confidence\", \"attack\"]\n",
    "transition_columns = [\"human_confidence\", \"attack\"]\n",
    "decision_columns = [\"human_confidence\", \"attack\"]\n",
    "\n",
    "model = UnSupervisedIOHMM(num_states=2, max_EM_iter=200, EM_tol=1e-6)\n",
    "\n",
    "model.set_models(model_emissions = [DiscreteMNL(solver='lbfgs')], \n",
    "                model_transition=CrossEntropyMNL(solver='lbfgs'),\n",
    "                model_initial=CrossEntropyMNL(solver='lbfgs'))\n",
    "\n",
    "model.set_inputs(covariates_initial = initial_columns, covariates_transition = initial_columns, covariates_emissions = [initial_columns])\n",
    "\n",
    "model.set_outputs([['reliance']])\n",
    "\n",
    "model.set_data(behavior_data)\n",
    "model.train()"
   ]
  },
  {
   "cell_type": "code",
   "execution_count": null,
   "id": "9dffa11b",
   "metadata": {},
   "outputs": [],
   "source": []
  },
  {
   "cell_type": "code",
   "execution_count": 559,
   "id": "7c13d674",
   "metadata": {},
   "outputs": [
    {
     "name": "stdout",
     "output_type": "stream",
     "text": [
      "[[ 0.28434979  0.40929626 -0.9641088 ]]\n"
     ]
    }
   ],
   "source": []
  },
  {
   "cell_type": "code",
   "execution_count": null,
   "id": "f795968e",
   "metadata": {},
   "outputs": [],
   "source": []
  },
  {
   "cell_type": "code",
   "execution_count": 471,
   "id": "dae55fbe",
   "metadata": {},
   "outputs": [],
   "source": [
    "# construct the dataset\n",
    "import torch\n",
    "from torch.distributions.multivariate_normal import MultivariateNormal\n",
    "from sklearn.model_selection import train_test_split\n",
    "def assign_task(n):\n",
    "    sequence = np.random.random(n)\n",
    "    sequence[sequence>0.5] = 1\n",
    "    sequence[sequence<=0.5] = 0\n",
    "    return sequence\n",
    "    \n",
    "\n",
    "N =1000\n",
    "# analyze human reliance prob\n",
    "query = pd.read_csv(\"query_.csv\")\n",
    "data = pd.read_csv(\"predictions_0110.csv\")\n",
    "data[\"taskId\"] = data[\"taskId\"].apply(lambda x:int(x))\n",
    "data = data[data[\"taskId\"]<16]\n",
    "data[\"human_confidence\"] = data[\"imageName\"].apply(lambda x:query.query(\"Name==@x\")[\"Confidence_Pred_val\"].item())\n",
    "data[\"human_confidence\"] = data[\"human_confidence\"].apply(lambda x:1 if x>0.5 else 0)\n",
    "selected_data = data[data[\"attackType\"]==0]\n",
    "workers = list(set(selected_data[\"workerId\"]))\n",
    "h_a = []\n",
    "h_n = []\n",
    "l_a = []\n",
    "l_n = []\n",
    "for w in workers:\n",
    "    d = data.query(\"workerId==@w\")\n",
    "    h_num = len(d.query(\"human_confidence==1\")[\"reliance\"])\n",
    "    l_num = len(d.query(\"human_confidence==0\")[\"reliance\"])\n",
    "    h_a.append(d.query(\"human_confidence==1 and attack==0\")[\"reliance\"].sum()/h_num)\n",
    "    h_n.append(d.query(\"human_confidence==1 and attack==-1\")[\"reliance\"].sum()/h_num)\n",
    "    l_a.append(d.query(\"human_confidence==0 and attack==0\")[\"reliance\"].sum()/l_num)\n",
    "    l_n.append(d.query(\"human_confidence==0 and attack==-1\")[\"reliance\"].sum()/l_num)\n",
    "mean = torch.tensor([np.mean(l_a),np.mean(h_a),np.mean(l_n),np.mean(h_n)])\n",
    "var = torch.tensor([[covxy(l_a,l_a),covxy(l_a,h_a),covxy(l_a,l_n),covxy(l_a,h_n)],[covxy(h_a,l_a),covxy(h_a,h_a),covxy(h_a,l_n),covxy(h_a,h_n)],\n",
    "                   [covxy(l_n,l_a),covxy(l_n,h_a),covxy(l_n,l_n),covxy(l_n,h_n)],[covxy(h_n,l_a),covxy(h_n,h_a),covxy(h_n,l_n),covxy(h_n,h_n)]])\n",
    "\n",
    "dis = MultivariateNormal(mean, var)\n",
    "prob = dis.sample([N])\n",
    "humans = []\n",
    "for i in range(prob.shape[0]):\n",
    "    flag = 0\n",
    "    for j in range(prob.shape[1]):\n",
    "        if prob[i,j] >= 1 or prob[i,j]<=0:\n",
    "            flag = 0\n",
    "            break\n",
    "        else:\n",
    "            flag = 1\n",
    "    if flag == 1:\n",
    "        humans.append(prob[i,:].numpy())\n",
    "\n",
    "task_pool = assign_task(n=20)"
   ]
  },
  {
   "cell_type": "code",
   "execution_count": null,
   "id": "2d773486",
   "metadata": {},
   "outputs": [],
   "source": []
  },
  {
   "cell_type": "code",
   "execution_count": 654,
   "id": "40e6c10c",
   "metadata": {
    "scrolled": true
   },
   "outputs": [],
   "source": [
    "dis = MultivariateNormal(mean, var)\n",
    "prob = dis.sample([N])\n",
    "humans = []\n",
    "for i in range(prob.shape[0]):\n",
    "    flag = 0\n",
    "    for j in range(prob.shape[1]):\n",
    "        if prob[i,j] >= 1 or prob[i,j]<=0:\n",
    "            flag = 0\n",
    "            break\n",
    "        else:\n",
    "            flag = 1\n",
    "    if flag == 1:\n",
    "        humans.append(prob[i,:].numpy())\n",
    "train_human, test_human, _, _ = train_test_split(humans,[0 for i in range(len(humans))], test_size=0.1, random_state=2023)\n",
    "test_humans = [np.concatenate((i,i),0) for i in test_human]\n",
    "# baselines [low_attack, high_attack, low_no, high_No]\n",
    "W_a = [-1,-0.5,0]\n",
    "W_r = [0.25,0.75,1]\n",
    "C = np.linspace(0,1,11)\n",
    "# no attack\n",
    "def no_attack_helper(n, w_a, w_r, c, humans):\n",
    "    accept = 0\n",
    "    reject = 0\n",
    "    attack = 0\n",
    "    for h in humans:\n",
    "        tasks = assign_task(n)\n",
    "        for t in tasks:\n",
    "            if t == 0:\n",
    "                d = np.random.choice([0,1],p=[1-h[2],h[2]])\n",
    "            else:\n",
    "                d = np.random.choice([0,1],p=[1-h[3],h[3]])\n",
    "            if d == 1:\n",
    "                accept += 1\n",
    "            else:\n",
    "                reject += 1\n",
    "\n",
    "    return w_a * accept + w_r * reject - attack * c\n",
    "\n",
    "\n",
    "def all_attack_helper(n, w_a, w_r, c, humans):\n",
    "    accept = 0\n",
    "    reject = 0\n",
    "    attack = n\n",
    "    for h in humans:\n",
    "        tasks = assign_task(n)\n",
    "        for t in tasks:\n",
    "            if t == 0:\n",
    "                d = np.random.choice([0,1],p=[1-h[0],h[0]])\n",
    "            else:\n",
    "                d = np.random.choice([0,1],p=[1-h[1],h[1]])\n",
    "            if d == 1:\n",
    "                accept += 1\n",
    "            else:\n",
    "                reject += 1\n",
    "\n",
    "    return w_a * accept + w_r * reject - n*len(humans) * c\n",
    "\n",
    "def half_attack_helper(n, w_a, w_r, c, humans):\n",
    "    accept = 0\n",
    "    reject = 0\n",
    "    attack = 0\n",
    "   \n",
    "    for h in humans:\n",
    "        tasks = assign_task(n)\n",
    "        p = np.random.choice([i for i in range(n)],n//2, replace =None)\n",
    "        attack_p = np.zeros(n)\n",
    "        attack_p[p] = 1\n",
    "        for k, t in enumerate(tasks):\n",
    "            if t == 0 and attack_p[k]==0:\n",
    "                d = np.random.choice([0,1],p=[1-h[2],h[2]])\n",
    "            elif t == 1 and attack_p[k]==0:\n",
    "                d = np.random.choice([0,1],p=[1-h[3],h[3]])\n",
    "            elif t == 0 and attack_p[k] == 1:\n",
    "                attack+= 1\n",
    "                d = np.random.choice([0,1],p=[1-h[0],h[0]])\n",
    "            else:\n",
    "                attack+=1\n",
    "                d = np.random.choice([0,1],p=[1-h[1],h[1]])  \n",
    "            if d == 1:\n",
    "                accept += 1\n",
    "            else:\n",
    "                reject += 1\n",
    "    return w_a * accept + w_r * reject - attack*c\n",
    "\n",
    "def high_confidence_attack_helper(n, w_a, w_r, c, humans):\n",
    "    accept = 0\n",
    "    reject = 0\n",
    "    attack = 0\n",
    "    for h in humans:\n",
    "        tasks = assign_task(n)\n",
    "        for t in tasks:\n",
    "            if t == 0:\n",
    "                d = np.random.choice([0,1],p=[1-h[2],h[2]])\n",
    "            else:\n",
    "                d = np.random.choice([0,1],p=[1-h[1],h[1]])\n",
    "                attack += 1\n",
    "            if d == 1:\n",
    "                accept += 1\n",
    "            else:\n",
    "                reject += 1\n",
    "    return w_a * accept + w_r * reject - attack * c\n",
    "\n",
    "\n",
    "def eval_func(func, n, w_a, w_r, c, humans, num=50):\n",
    "    u = []\n",
    "    for _ in range(num):\n",
    "        u.append(func(n, w_a,w_r,c,humans))\n",
    "    return sum(u)/num\n",
    "    \n",
    "    \n"
   ]
  },
  {
   "cell_type": "code",
   "execution_count": 655,
   "id": "6cdef18d",
   "metadata": {},
   "outputs": [
    {
     "name": "stdout",
     "output_type": "stream",
     "text": [
      "attack cost:---->0.0\n",
      "high confidence:280.4\n",
      "half attack:312.22\n",
      "all attack:400.54\n",
      "no attack:221.47\n",
      "attack cost:---->0.05\n",
      "high confidence:252.95700000000005\n",
      "half attack:285.33\n",
      "all attack:349.8\n",
      "no attack:224.35\n",
      "attack cost:---->0.1\n",
      "high confidence:226.926\n",
      "half attack:263.23\n",
      "all attack:297.01\n",
      "no attack:223.23\n",
      "attack cost:---->0.15000000000000002\n",
      "high confidence:200.246\n",
      "half attack:236.29\n",
      "all attack:249.39999999999998\n",
      "no attack:221.73\n",
      "attack cost:---->0.2\n",
      "high confidence:177.40399999999997\n",
      "half attack:209.49\n",
      "all attack:197.4\n",
      "no attack:222.04\n",
      "attack cost:---->0.25\n",
      "high confidence:150.625\n",
      "half attack:184.42\n",
      "all attack:145.97\n",
      "no attack:221.62\n",
      "attack cost:---->0.30000000000000004\n",
      "high confidence:123.49199999999998\n",
      "half attack:159.92\n",
      "all attack:96.12999999999998\n",
      "no attack:222.74\n",
      "attack cost:---->0.35000000000000003\n",
      "high confidence:97.90899999999999\n",
      "half attack:132.82\n",
      "all attack:44.93999999999998\n",
      "no attack:222.94\n",
      "attack cost:---->0.4\n",
      "high confidence:73.13399999999999\n",
      "half attack:108.91\n",
      "all attack:-6.41\n",
      "no attack:222.98\n"
     ]
    }
   ],
   "source": [
    "C = np.linspace(0,0.4,9)\n",
    "\n",
    "for c in C:\n",
    "    print(\"attack cost:---->{}\".format(c))\n",
    "    print(\"high confidence:{}\".format(eval_func(high_confidence_attack_helper,20,0,0.5,c, test_humans)))\n",
    "    print(\"half attack:{}\".format(eval_func(half_attack_helper,20,0,0.5,c, test_humans)))\n",
    "    print(\"all attack:{}\".format(eval_func(all_attack_helper,20,0,0.5,c, test_humans)))\n",
    "    print(\"no attack:{}\".format(eval_func(no_attack_helper, 20,0,0.5,c, test_humans)))"
   ]
  },
  {
   "cell_type": "code",
   "execution_count": null,
   "id": "4d82c5be",
   "metadata": {},
   "outputs": [],
   "source": []
  },
  {
   "cell_type": "code",
   "execution_count": null,
   "id": "70462b7e",
   "metadata": {},
   "outputs": [],
   "source": []
  },
  {
   "cell_type": "code",
   "execution_count": null,
   "id": "8d9e7c8d",
   "metadata": {},
   "outputs": [],
   "source": []
  },
  {
   "cell_type": "code",
   "execution_count": null,
   "id": "c7819a1c",
   "metadata": {},
   "outputs": [],
   "source": []
  },
  {
   "cell_type": "code",
   "execution_count": null,
   "id": "95258c57",
   "metadata": {},
   "outputs": [],
   "source": []
  },
  {
   "cell_type": "code",
   "execution_count": null,
   "id": "15f6a623",
   "metadata": {},
   "outputs": [],
   "source": []
  },
  {
   "cell_type": "code",
   "execution_count": 365,
   "id": "73d9df8d",
   "metadata": {},
   "outputs": [
    {
     "data": {
      "text/plain": [
       "tensor([[ 0.0143,  0.0016, -0.0003,  0.0133],\n",
       "        [ 0.0016,  0.0487,  0.0315, -0.0071],\n",
       "        [-0.0003,  0.0315,  0.0792,  0.0026],\n",
       "        [ 0.0133, -0.0071,  0.0026,  0.0508]], dtype=torch.float64)"
      ]
     },
     "execution_count": 365,
     "metadata": {},
     "output_type": "execute_result"
    }
   ],
   "source": [
    "var"
   ]
  },
  {
   "cell_type": "code",
   "execution_count": null,
   "id": "7d8e769c",
   "metadata": {},
   "outputs": [],
   "source": []
  },
  {
   "cell_type": "code",
   "execution_count": null,
   "id": "f54c17fc",
   "metadata": {},
   "outputs": [],
   "source": []
  },
  {
   "cell_type": "code",
   "execution_count": 321,
   "id": "e59f0c63",
   "metadata": {},
   "outputs": [
    {
     "data": {
      "text/plain": [
       "6"
      ]
     },
     "execution_count": 321,
     "metadata": {},
     "output_type": "execute_result"
    }
   ],
   "source": [
    "d.query(\"human_confidence==0 and attack==-1\")[\"reliance\"].sum()"
   ]
  },
  {
   "cell_type": "code",
   "execution_count": 319,
   "id": "4f1c9f1e",
   "metadata": {},
   "outputs": [
    {
     "data": {
      "text/plain": [
       "157     True\n",
       "2316    True\n",
       "2987    True\n",
       "4349    True\n",
       "Name: reliance, dtype: bool"
      ]
     },
     "execution_count": 319,
     "metadata": {},
     "output_type": "execute_result"
    }
   ],
   "source": [
    "d.query(\"human_confidence==1 and attack==-1\")[\"reliance\"]"
   ]
  },
  {
   "cell_type": "code",
   "execution_count": 320,
   "id": "779482bf",
   "metadata": {},
   "outputs": [
    {
     "data": {
      "text/plain": [
       "486     False\n",
       "1829    False\n",
       "1838    False\n",
       "4263    False\n",
       "Name: reliance, dtype: bool"
      ]
     },
     "execution_count": 320,
     "metadata": {},
     "output_type": "execute_result"
    }
   ],
   "source": [
    "d.query(\"human_confidence==1 and attack==0\")[\"reliance\"]"
   ]
  },
  {
   "cell_type": "code",
   "execution_count": null,
   "id": "9f3101db",
   "metadata": {},
   "outputs": [],
   "source": []
  },
  {
   "cell_type": "code",
   "execution_count": null,
   "id": "5162e6ac",
   "metadata": {},
   "outputs": [],
   "source": []
  },
  {
   "cell_type": "code",
   "execution_count": null,
   "id": "7a7b13bc",
   "metadata": {},
   "outputs": [],
   "source": []
  }
 ],
 "metadata": {
  "kernelspec": {
   "display_name": "Python 3 (ipykernel)",
   "language": "python",
   "name": "python3"
  },
  "language_info": {
   "codemirror_mode": {
    "name": "ipython",
    "version": 3
   },
   "file_extension": ".py",
   "mimetype": "text/x-python",
   "name": "python",
   "nbconvert_exporter": "python",
   "pygments_lexer": "ipython3",
   "version": "3.9.12"
  },
  "vscode": {
   "interpreter": {
    "hash": "685ef0cffa40cddddc672a70da356b3b64b48bf05cb3d7fba753d455d3ce387a"
   }
  }
 },
 "nbformat": 4,
 "nbformat_minor": 5
}
