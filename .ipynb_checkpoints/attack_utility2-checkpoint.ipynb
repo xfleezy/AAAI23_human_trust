{
 "cells": [
  {
   "cell_type": "code",
   "execution_count": 488,
   "id": "a4023e3b",
   "metadata": {},
   "outputs": [],
   "source": [
    "# preprocess data\n",
    "import numpy as np\n",
    "import pandas as pd\n",
    "# from hmm import UnSupervisedIOHMM, SemiSupervisedIOHMM\n",
    "# from hmm import OLS,DiscreteMNL, CrossEntropyMNL\n",
    "\n",
    "import re\n",
    "import copy \n",
    "import numpy as np\n",
    "import pandas as pd\n",
    "from sklearn.preprocessing import OneHotEncoder\n",
    "from sklearn import preprocessing\n",
    "from sklearn.manifold import TSNE\n",
    "import numpy as np\n",
    "import pandas as pd\n",
    "\n",
    "from hmm import OLS,DiscreteMNL, CrossEntropyMNL\n",
    "from hmm import Trust_hmm\n",
    "import random\n"
   ]
  },
  {
   "cell_type": "code",
   "execution_count": null,
   "id": "58511a93",
   "metadata": {},
   "outputs": [],
   "source": []
  },
  {
   "cell_type": "code",
   "execution_count": null,
   "id": "c3769d4e",
   "metadata": {},
   "outputs": [],
   "source": []
  },
  {
   "cell_type": "code",
   "execution_count": null,
   "id": "9553e28c",
   "metadata": {},
   "outputs": [],
   "source": [
    "\n"
   ]
  },
  {
   "cell_type": "code",
   "execution_count": null,
   "id": "45217c4f",
   "metadata": {},
   "outputs": [],
   "source": [
    "\n",
    "  \n",
    "      \n"
   ]
  },
  {
   "cell_type": "code",
   "execution_count": 9,
   "id": "292c1be4",
   "metadata": {},
   "outputs": [],
   "source": [
    "trust_m = Trust_hmm(num_states=3, max_EM_iter=150, EM_tol=1e-6)\n",
    "trust_m.set_models(model_decisions=[DiscreteMNL(alpha=1, reg_method='l2')],\n",
    "                model_transition=CrossEntropyMNL(alpha=5, solver='lbfgs', reg_method='l2'),\n",
    "                model_initial=CrossEntropyMNL(alpha=5, solver='lbfgs', reg_method='l2'))\n",
    "trust_m.set_inputs(covariates_initial=initial_columns,covariates_transition=transition_columns,\n",
    "                covariates_emissions=[decision_columns])\n",
    "trust_m.set_outputs([['decision']])"
   ]
  },
  {
   "cell_type": "code",
   "execution_count": 11,
   "id": "64b059bf",
   "metadata": {},
   "outputs": [
    {
     "data": {
      "text/plain": [
       "<bound method BaseMNL.predict_log_proba of <linear_models.CrossEntropyMNL object at 0x7fd5438f6700>>"
      ]
     },
     "execution_count": 11,
     "metadata": {},
     "output_type": "execute_result"
    }
   ],
   "source": [
    "trust_m.model_transition[0].predict_log_proba"
   ]
  },
  {
   "cell_type": "code",
   "execution_count": 12,
   "id": "2e39ae48",
   "metadata": {},
   "outputs": [
    {
     "ename": "TypeError",
     "evalue": "predict_log_proba() missing 1 required positional argument: 'X'",
     "output_type": "error",
     "traceback": [
      "\u001b[0;31m---------------------------------------------------------------------------\u001b[0m",
      "\u001b[0;31mTypeError\u001b[0m                                 Traceback (most recent call last)",
      "\u001b[0;32m/var/folders/dy/kwk0q56105vcyx4cm7ryb62w0000gn/T/ipykernel_12192/3160216559.py\u001b[0m in \u001b[0;36m<module>\u001b[0;34m\u001b[0m\n\u001b[0;32m----> 1\u001b[0;31m \u001b[0mprob_initial\u001b[0m \u001b[0;34m=\u001b[0m \u001b[0mnp\u001b[0m\u001b[0;34m.\u001b[0m\u001b[0mexp\u001b[0m\u001b[0;34m(\u001b[0m\u001b[0mtrust_m\u001b[0m\u001b[0;34m.\u001b[0m\u001b[0mmodel_initial\u001b[0m\u001b[0;34m.\u001b[0m\u001b[0mpredict_log_proba\u001b[0m\u001b[0;34m(\u001b[0m\u001b[0;34m)\u001b[0m\u001b[0;34m.\u001b[0m\u001b[0mreshape\u001b[0m\u001b[0;34m(\u001b[0m\u001b[0mtrust_m\u001b[0m\u001b[0;34m.\u001b[0m\u001b[0mnum_states\u001b[0m\u001b[0;34m,\u001b[0m \u001b[0;34m)\u001b[0m\u001b[0;34m)\u001b[0m\u001b[0;34m\u001b[0m\u001b[0;34m\u001b[0m\u001b[0m\n\u001b[0m",
      "\u001b[0;31mTypeError\u001b[0m: predict_log_proba() missing 1 required positional argument: 'X'"
     ]
    }
   ],
   "source": [
    "prob_initial = np.exp(trust_m.model_initial.predict_log_proba().reshape(trust_m.num_states, ))"
   ]
  },
  {
   "cell_type": "code",
   "execution_count": 13,
   "id": "5586f722",
   "metadata": {},
   "outputs": [
    {
     "data": {
      "text/plain": [
       "3"
      ]
     },
     "execution_count": 13,
     "metadata": {},
     "output_type": "execute_result"
    }
   ],
   "source": [
    "trust_m.num_states"
   ]
  },
  {
   "cell_type": "code",
   "execution_count": 619,
   "id": "ce023e7b",
   "metadata": {},
   "outputs": [],
   "source": [
    "a = np.array([[1,2]])"
   ]
  },
  {
   "cell_type": "code",
   "execution_count": 652,
   "id": "bf1de6eb",
   "metadata": {},
   "outputs": [],
   "source": [
    "from statsmodels.tools import add_constant\n",
    "\n",
    "def trust_transition(model, inputs, state_src, state_dst):\n",
    "#     inputs = add_constant(inputs,has_constant='add')\n",
    "    prob = np.exp(model.model_transition[state_src].predict_log_proba(inputs)).reshape(model.num_states)\n",
    "    return prob[state_dst]\n",
    "\n",
    "def reliance_prob(model, inputs, state):\n",
    "#     inputs = add_constant(inputs,has_constant='add')\n",
    "\n",
    "    return np.exp(model.model_emissions[state][0].predict_log_proba(inputs)).reshape(2)\n",
    "\n",
    "\n",
    "def reward(model, state, confidence,attack, w_a, w_r, c):\n",
    "    inputs = np.array([[confidence, attack]])\n",
    "\n",
    "    r = 0\n",
    "    for i in range(model.num_states):\n",
    "\n",
    "        r += trust_transition(model, inputs, state, i)* (reliance_prob(model, inputs,i)[0]*w_r +\n",
    "                                                         reliance_prob(model, inputs,i)[1]*w_a - attack*c)\n",
    "    return r\n",
    "        \n",
    "def reward_belief(model, belief, confidence,attack, w_a, w_r, c):\n",
    "    r = 0\n",
    "    for i in range(belief.shape[0]):\n",
    "        r += belief[i] * reward(model, i, confidence, attack, w_a, w_r, c)\n",
    "    return r\n",
    "\n",
    "def EU_max(model, belief, confidence, attack, l, w_a, w_r, c,max_length=3):\n",
    "    if l < 1:\n",
    "        print(\"error: l should be greated than 1\")\n",
    "    if l == 1:\n",
    "        eu_max = reward_belief(model, belief, confidence, attack, w_a, w_r, c)\n",
    "        return eu_max\n",
    "    else:\n",
    "        r = reward_belief(model, belief, confidence, attack, w_a, w_r, c)\n",
    "        eu_max = r \n",
    "        for d in [0,1]:\n",
    "            sum_ = 0\n",
    "            updated_b = update_belief(model, belief, confidence, attack,reliance=d)\n",
    "            for k in range(belief.shape[0]):\n",
    "                b_k = belief[k]\n",
    "                inputs = np.array([[ confidence, attack]])\n",
    "                for i in range(model.num_states):\n",
    "                    \n",
    "                    sum_ += b_k*trust_transition(model, inputs, k, i)*(reliance_prob(model,inputs,i)[d]*max(0.5*(EU_max(model, updated_b,confidence=0,attack=0,l=min(l-1,max_length),w_a=w_a, w_r=w_r, c=c)\n",
    "                                                                                                              +EU_max(model, updated_b,confidence=1,attack=0,l=min(l-1,max_length),w_a=w_a, w_r=w_r, c=c)),\n",
    "                                                                                    0.5*(EU_max(model, updated_b,confidence=0,attack=1,l=min(l-1,max_length),w_a=w_a, w_r=w_r, c=c)+EU_max(model, updated_b,confidence=1,attack=1,l=min(l-1,max_length),w_a=w_a, w_r=w_r, c=c))))\n",
    "            eu_max += sum_\n",
    "        return eu_max\n",
    "\n",
    "def update_belief(model,belief, confidence, attack, reliance, constant = 1):\n",
    "    updated_b = np.zeros_like(belief)\n",
    "    inputs = np.array([[confidence, attack]])\n",
    "    for j in range(belief.shape[0]):\n",
    "        for i in range(belief.shape[0]):\n",
    "            updated_b[j] += constant*belief[i]*trust_transition(model, inputs, state_src=i,state_dst=j)*reliance_prob(model, inputs, j)[reliance]\n",
    "    return updated_b\n",
    "    \n",
    "    \n",
    "def hmm_attack_helper(model, n, w_a, w_r, c, humans):\n",
    "    accept = 0\n",
    "    reject = 0\n",
    "    attack = 0\n",
    "    for h in humans:\n",
    "        b = np.array([1/model.num_states for i in range(model.num_states)])\n",
    "\n",
    "        tasks = assign_task(n)\n",
    "        for k, t in enumerate(tasks):\n",
    "            \n",
    "            action = np.argmax([EU_max(model, b, t, 0, n-k, w_a, w_r, c),EU_max(model, b, t, 1, n-k, w_a, w_r, c)])\n",
    "            \n",
    "            if t == 0 and action==0:\n",
    "                d = np.random.choice([0,1],p=[1-h[2],h[2]])\n",
    "            elif t == 1 and action==0:\n",
    "                d = np.random.choice([0,1],p=[1-h[3],h[3]])\n",
    "            elif t == 0 and action == 1:\n",
    "                attack+= 1\n",
    "                d = np.random.choice([0,1],p=[1-h[0],h[0]])\n",
    "            else:\n",
    "                attack+=1\n",
    "                d = np.random.choice([0,1],p=[1-h[1],h[1]]) \n",
    "            b = update_belief(model, b, t,action, d)\n",
    "            if d == 1:\n",
    "                accept += 1\n",
    "            else:\n",
    "                reject += 1\n",
    "#             print(accept, reject, attack)\n",
    "    return w_a * accept + w_r * reject - attack*c\n",
    "    \n",
    "    \n",
    "    \n",
    "    "
   ]
  },
  {
   "cell_type": "code",
   "execution_count": null,
   "id": "edcd55e9",
   "metadata": {},
   "outputs": [],
   "source": []
  },
  {
   "cell_type": "code",
   "execution_count": 653,
   "id": "14946187",
   "metadata": {},
   "outputs": [
    {
     "ename": "KeyboardInterrupt",
     "evalue": "",
     "output_type": "error",
     "traceback": [
      "\u001b[0;31m---------------------------------------------------------------------------\u001b[0m",
      "\u001b[0;31mKeyboardInterrupt\u001b[0m                         Traceback (most recent call last)",
      "\u001b[0;32m/var/folders/dy/kwk0q56105vcyx4cm7ryb62w0000gn/T/ipykernel_12192/505161287.py\u001b[0m in \u001b[0;36m<module>\u001b[0;34m\u001b[0m\n\u001b[0;32m----> 1\u001b[0;31m \u001b[0mhmm_attack_helper\u001b[0m\u001b[0;34m(\u001b[0m\u001b[0mmodel\u001b[0m\u001b[0;34m,\u001b[0m \u001b[0;36m20\u001b[0m\u001b[0;34m,\u001b[0m\u001b[0;36m0\u001b[0m\u001b[0;34m,\u001b[0m\u001b[0;36m0.5\u001b[0m\u001b[0;34m,\u001b[0m\u001b[0;36m0.15\u001b[0m\u001b[0;34m,\u001b[0m \u001b[0mtest_humans\u001b[0m\u001b[0;34m)\u001b[0m\u001b[0;34m\u001b[0m\u001b[0;34m\u001b[0m\u001b[0m\n\u001b[0m",
      "\u001b[0;32m/var/folders/dy/kwk0q56105vcyx4cm7ryb62w0000gn/T/ipykernel_12192/3904724203.py\u001b[0m in \u001b[0;36mhmm_attack_helper\u001b[0;34m(model, n, w_a, w_r, c, humans)\u001b[0m\n\u001b[1;32m     70\u001b[0m         \u001b[0;32mfor\u001b[0m \u001b[0mk\u001b[0m\u001b[0;34m,\u001b[0m \u001b[0mt\u001b[0m \u001b[0;32min\u001b[0m \u001b[0menumerate\u001b[0m\u001b[0;34m(\u001b[0m\u001b[0mtasks\u001b[0m\u001b[0;34m)\u001b[0m\u001b[0;34m:\u001b[0m\u001b[0;34m\u001b[0m\u001b[0;34m\u001b[0m\u001b[0m\n\u001b[1;32m     71\u001b[0m \u001b[0;34m\u001b[0m\u001b[0m\n\u001b[0;32m---> 72\u001b[0;31m             \u001b[0maction\u001b[0m \u001b[0;34m=\u001b[0m \u001b[0mnp\u001b[0m\u001b[0;34m.\u001b[0m\u001b[0margmax\u001b[0m\u001b[0;34m(\u001b[0m\u001b[0;34m[\u001b[0m\u001b[0mEU_max\u001b[0m\u001b[0;34m(\u001b[0m\u001b[0mmodel\u001b[0m\u001b[0;34m,\u001b[0m \u001b[0mb\u001b[0m\u001b[0;34m,\u001b[0m \u001b[0mt\u001b[0m\u001b[0;34m,\u001b[0m \u001b[0;36m0\u001b[0m\u001b[0;34m,\u001b[0m \u001b[0mn\u001b[0m\u001b[0;34m-\u001b[0m\u001b[0mk\u001b[0m\u001b[0;34m,\u001b[0m \u001b[0mw_a\u001b[0m\u001b[0;34m,\u001b[0m \u001b[0mw_r\u001b[0m\u001b[0;34m,\u001b[0m \u001b[0mc\u001b[0m\u001b[0;34m)\u001b[0m\u001b[0;34m,\u001b[0m\u001b[0mEU_max\u001b[0m\u001b[0;34m(\u001b[0m\u001b[0mmodel\u001b[0m\u001b[0;34m,\u001b[0m \u001b[0mb\u001b[0m\u001b[0;34m,\u001b[0m \u001b[0mt\u001b[0m\u001b[0;34m,\u001b[0m \u001b[0;36m1\u001b[0m\u001b[0;34m,\u001b[0m \u001b[0mn\u001b[0m\u001b[0;34m-\u001b[0m\u001b[0mk\u001b[0m\u001b[0;34m,\u001b[0m \u001b[0mw_a\u001b[0m\u001b[0;34m,\u001b[0m \u001b[0mw_r\u001b[0m\u001b[0;34m,\u001b[0m \u001b[0mc\u001b[0m\u001b[0;34m)\u001b[0m\u001b[0;34m]\u001b[0m\u001b[0;34m)\u001b[0m\u001b[0;34m\u001b[0m\u001b[0;34m\u001b[0m\u001b[0m\n\u001b[0m\u001b[1;32m     73\u001b[0m \u001b[0;34m\u001b[0m\u001b[0m\n\u001b[1;32m     74\u001b[0m             \u001b[0;32mif\u001b[0m \u001b[0mt\u001b[0m \u001b[0;34m==\u001b[0m \u001b[0;36m0\u001b[0m \u001b[0;32mand\u001b[0m \u001b[0maction\u001b[0m\u001b[0;34m==\u001b[0m\u001b[0;36m0\u001b[0m\u001b[0;34m:\u001b[0m\u001b[0;34m\u001b[0m\u001b[0;34m\u001b[0m\u001b[0m\n",
      "\u001b[0;32m/var/folders/dy/kwk0q56105vcyx4cm7ryb62w0000gn/T/ipykernel_12192/3904724203.py\u001b[0m in \u001b[0;36mEU_max\u001b[0;34m(model, belief, confidence, attack, l, w_a, w_r, c, max_length)\u001b[0m\n\u001b[1;32m     47\u001b[0m                     sum_ += b_k*trust_transition(model, inputs, k, i)*(reliance_prob(model,inputs,i)[d]*max(0.5*(EU_max(model, updated_b,confidence=0,attack=0,l=min(l-1,max_length),w_a=w_a, w_r=w_r, c=c)\n\u001b[1;32m     48\u001b[0m                                                                                                               +EU_max(model, updated_b,confidence=1,attack=0,l=min(l-1,max_length),w_a=w_a, w_r=w_r, c=c)),\n\u001b[0;32m---> 49\u001b[0;31m                                                                                     0.5*(EU_max(model, updated_b,confidence=0,attack=1,l=min(l-1,max_length),w_a=w_a, w_r=w_r, c=c)+EU_max(model, updated_b,confidence=1,attack=1,l=min(l-1,max_length),w_a=w_a, w_r=w_r, c=c))))\n\u001b[0m\u001b[1;32m     50\u001b[0m             \u001b[0meu_max\u001b[0m \u001b[0;34m+=\u001b[0m \u001b[0msum_\u001b[0m\u001b[0;34m\u001b[0m\u001b[0;34m\u001b[0m\u001b[0m\n\u001b[1;32m     51\u001b[0m         \u001b[0;32mreturn\u001b[0m \u001b[0meu_max\u001b[0m\u001b[0;34m\u001b[0m\u001b[0;34m\u001b[0m\u001b[0m\n",
      "\u001b[0;32m/var/folders/dy/kwk0q56105vcyx4cm7ryb62w0000gn/T/ipykernel_12192/3904724203.py\u001b[0m in \u001b[0;36mEU_max\u001b[0;34m(model, belief, confidence, attack, l, w_a, w_r, c, max_length)\u001b[0m\n\u001b[1;32m     47\u001b[0m                     sum_ += b_k*trust_transition(model, inputs, k, i)*(reliance_prob(model,inputs,i)[d]*max(0.5*(EU_max(model, updated_b,confidence=0,attack=0,l=min(l-1,max_length),w_a=w_a, w_r=w_r, c=c)\n\u001b[1;32m     48\u001b[0m                                                                                                               +EU_max(model, updated_b,confidence=1,attack=0,l=min(l-1,max_length),w_a=w_a, w_r=w_r, c=c)),\n\u001b[0;32m---> 49\u001b[0;31m                                                                                     0.5*(EU_max(model, updated_b,confidence=0,attack=1,l=min(l-1,max_length),w_a=w_a, w_r=w_r, c=c)+EU_max(model, updated_b,confidence=1,attack=1,l=min(l-1,max_length),w_a=w_a, w_r=w_r, c=c))))\n\u001b[0m\u001b[1;32m     50\u001b[0m             \u001b[0meu_max\u001b[0m \u001b[0;34m+=\u001b[0m \u001b[0msum_\u001b[0m\u001b[0;34m\u001b[0m\u001b[0;34m\u001b[0m\u001b[0m\n\u001b[1;32m     51\u001b[0m         \u001b[0;32mreturn\u001b[0m \u001b[0meu_max\u001b[0m\u001b[0;34m\u001b[0m\u001b[0;34m\u001b[0m\u001b[0m\n",
      "\u001b[0;32m/var/folders/dy/kwk0q56105vcyx4cm7ryb62w0000gn/T/ipykernel_12192/3904724203.py\u001b[0m in \u001b[0;36mEU_max\u001b[0;34m(model, belief, confidence, attack, l, w_a, w_r, c, max_length)\u001b[0m\n\u001b[1;32m     46\u001b[0m \u001b[0;34m\u001b[0m\u001b[0m\n\u001b[1;32m     47\u001b[0m                     sum_ += b_k*trust_transition(model, inputs, k, i)*(reliance_prob(model,inputs,i)[d]*max(0.5*(EU_max(model, updated_b,confidence=0,attack=0,l=min(l-1,max_length),w_a=w_a, w_r=w_r, c=c)\n\u001b[0;32m---> 48\u001b[0;31m                                                                                                               +EU_max(model, updated_b,confidence=1,attack=0,l=min(l-1,max_length),w_a=w_a, w_r=w_r, c=c)),\n\u001b[0m\u001b[1;32m     49\u001b[0m                                                                                     0.5*(EU_max(model, updated_b,confidence=0,attack=1,l=min(l-1,max_length),w_a=w_a, w_r=w_r, c=c)+EU_max(model, updated_b,confidence=1,attack=1,l=min(l-1,max_length),w_a=w_a, w_r=w_r, c=c))))\n\u001b[1;32m     50\u001b[0m             \u001b[0meu_max\u001b[0m \u001b[0;34m+=\u001b[0m \u001b[0msum_\u001b[0m\u001b[0;34m\u001b[0m\u001b[0;34m\u001b[0m\u001b[0m\n",
      "\u001b[0;32m/var/folders/dy/kwk0q56105vcyx4cm7ryb62w0000gn/T/ipykernel_12192/3904724203.py\u001b[0m in \u001b[0;36mEU_max\u001b[0;34m(model, belief, confidence, attack, l, w_a, w_r, c, max_length)\u001b[0m\n\u001b[1;32m     32\u001b[0m         \u001b[0mprint\u001b[0m\u001b[0;34m(\u001b[0m\u001b[0;34m\"error: l should be greated than 1\"\u001b[0m\u001b[0;34m)\u001b[0m\u001b[0;34m\u001b[0m\u001b[0;34m\u001b[0m\u001b[0m\n\u001b[1;32m     33\u001b[0m     \u001b[0;32mif\u001b[0m \u001b[0ml\u001b[0m \u001b[0;34m==\u001b[0m \u001b[0;36m1\u001b[0m\u001b[0;34m:\u001b[0m\u001b[0;34m\u001b[0m\u001b[0;34m\u001b[0m\u001b[0m\n\u001b[0;32m---> 34\u001b[0;31m         \u001b[0meu_max\u001b[0m \u001b[0;34m=\u001b[0m \u001b[0mreward_belief\u001b[0m\u001b[0;34m(\u001b[0m\u001b[0mmodel\u001b[0m\u001b[0;34m,\u001b[0m \u001b[0mbelief\u001b[0m\u001b[0;34m,\u001b[0m \u001b[0mconfidence\u001b[0m\u001b[0;34m,\u001b[0m \u001b[0mattack\u001b[0m\u001b[0;34m,\u001b[0m \u001b[0mw_a\u001b[0m\u001b[0;34m,\u001b[0m \u001b[0mw_r\u001b[0m\u001b[0;34m,\u001b[0m \u001b[0mc\u001b[0m\u001b[0;34m)\u001b[0m\u001b[0;34m\u001b[0m\u001b[0;34m\u001b[0m\u001b[0m\n\u001b[0m\u001b[1;32m     35\u001b[0m         \u001b[0;32mreturn\u001b[0m \u001b[0meu_max\u001b[0m\u001b[0;34m\u001b[0m\u001b[0;34m\u001b[0m\u001b[0m\n\u001b[1;32m     36\u001b[0m     \u001b[0;32melse\u001b[0m\u001b[0;34m:\u001b[0m\u001b[0;34m\u001b[0m\u001b[0;34m\u001b[0m\u001b[0m\n",
      "\u001b[0;32m/var/folders/dy/kwk0q56105vcyx4cm7ryb62w0000gn/T/ipykernel_12192/3904724203.py\u001b[0m in \u001b[0;36mreward_belief\u001b[0;34m(model, belief, confidence, attack, w_a, w_r, c)\u001b[0m\n\u001b[1;32m     25\u001b[0m     \u001b[0mr\u001b[0m \u001b[0;34m=\u001b[0m \u001b[0;36m0\u001b[0m\u001b[0;34m\u001b[0m\u001b[0;34m\u001b[0m\u001b[0m\n\u001b[1;32m     26\u001b[0m     \u001b[0;32mfor\u001b[0m \u001b[0mi\u001b[0m \u001b[0;32min\u001b[0m \u001b[0mrange\u001b[0m\u001b[0;34m(\u001b[0m\u001b[0mbelief\u001b[0m\u001b[0;34m.\u001b[0m\u001b[0mshape\u001b[0m\u001b[0;34m[\u001b[0m\u001b[0;36m0\u001b[0m\u001b[0;34m]\u001b[0m\u001b[0;34m)\u001b[0m\u001b[0;34m:\u001b[0m\u001b[0;34m\u001b[0m\u001b[0;34m\u001b[0m\u001b[0m\n\u001b[0;32m---> 27\u001b[0;31m         \u001b[0mr\u001b[0m \u001b[0;34m+=\u001b[0m \u001b[0mbelief\u001b[0m\u001b[0;34m[\u001b[0m\u001b[0mi\u001b[0m\u001b[0;34m]\u001b[0m \u001b[0;34m*\u001b[0m \u001b[0mreward\u001b[0m\u001b[0;34m(\u001b[0m\u001b[0mmodel\u001b[0m\u001b[0;34m,\u001b[0m \u001b[0mi\u001b[0m\u001b[0;34m,\u001b[0m \u001b[0mconfidence\u001b[0m\u001b[0;34m,\u001b[0m \u001b[0mattack\u001b[0m\u001b[0;34m,\u001b[0m \u001b[0mw_a\u001b[0m\u001b[0;34m,\u001b[0m \u001b[0mw_r\u001b[0m\u001b[0;34m,\u001b[0m \u001b[0mc\u001b[0m\u001b[0;34m)\u001b[0m\u001b[0;34m\u001b[0m\u001b[0;34m\u001b[0m\u001b[0m\n\u001b[0m\u001b[1;32m     28\u001b[0m     \u001b[0;32mreturn\u001b[0m \u001b[0mr\u001b[0m\u001b[0;34m\u001b[0m\u001b[0;34m\u001b[0m\u001b[0m\n\u001b[1;32m     29\u001b[0m \u001b[0;34m\u001b[0m\u001b[0m\n",
      "\u001b[0;32m/var/folders/dy/kwk0q56105vcyx4cm7ryb62w0000gn/T/ipykernel_12192/3904724203.py\u001b[0m in \u001b[0;36mreward\u001b[0;34m(model, state, confidence, attack, w_a, w_r, c)\u001b[0m\n\u001b[1;32m     18\u001b[0m     \u001b[0;32mfor\u001b[0m \u001b[0mi\u001b[0m \u001b[0;32min\u001b[0m \u001b[0mrange\u001b[0m\u001b[0;34m(\u001b[0m\u001b[0mmodel\u001b[0m\u001b[0;34m.\u001b[0m\u001b[0mnum_states\u001b[0m\u001b[0;34m)\u001b[0m\u001b[0;34m:\u001b[0m\u001b[0;34m\u001b[0m\u001b[0;34m\u001b[0m\u001b[0m\n\u001b[1;32m     19\u001b[0m \u001b[0;34m\u001b[0m\u001b[0m\n\u001b[0;32m---> 20\u001b[0;31m         r += trust_transition(model, inputs, state, i)* (reliance_prob(model, inputs,i)[0]*w_r +\n\u001b[0m\u001b[1;32m     21\u001b[0m                                                          reliance_prob(model, inputs,i)[1]*w_a - attack*c)\n\u001b[1;32m     22\u001b[0m     \u001b[0;32mreturn\u001b[0m \u001b[0mr\u001b[0m\u001b[0;34m\u001b[0m\u001b[0;34m\u001b[0m\u001b[0m\n",
      "\u001b[0;32m/var/folders/dy/kwk0q56105vcyx4cm7ryb62w0000gn/T/ipykernel_12192/3904724203.py\u001b[0m in \u001b[0;36mreliance_prob\u001b[0;34m(model, inputs, state)\u001b[0m\n\u001b[1;32m      9\u001b[0m \u001b[0;31m#     inputs = add_constant(inputs,has_constant='add')\u001b[0m\u001b[0;34m\u001b[0m\u001b[0;34m\u001b[0m\u001b[0m\n\u001b[1;32m     10\u001b[0m \u001b[0;34m\u001b[0m\u001b[0m\n\u001b[0;32m---> 11\u001b[0;31m     \u001b[0;32mreturn\u001b[0m \u001b[0mnp\u001b[0m\u001b[0;34m.\u001b[0m\u001b[0mexp\u001b[0m\u001b[0;34m(\u001b[0m\u001b[0mmodel\u001b[0m\u001b[0;34m.\u001b[0m\u001b[0mmodel_emissions\u001b[0m\u001b[0;34m[\u001b[0m\u001b[0mstate\u001b[0m\u001b[0;34m]\u001b[0m\u001b[0;34m[\u001b[0m\u001b[0;36m0\u001b[0m\u001b[0;34m]\u001b[0m\u001b[0;34m.\u001b[0m\u001b[0mpredict_log_proba\u001b[0m\u001b[0;34m(\u001b[0m\u001b[0minputs\u001b[0m\u001b[0;34m)\u001b[0m\u001b[0;34m)\u001b[0m\u001b[0;34m.\u001b[0m\u001b[0mreshape\u001b[0m\u001b[0;34m(\u001b[0m\u001b[0;36m2\u001b[0m\u001b[0;34m)\u001b[0m\u001b[0;34m\u001b[0m\u001b[0;34m\u001b[0m\u001b[0m\n\u001b[0m\u001b[1;32m     12\u001b[0m \u001b[0;34m\u001b[0m\u001b[0m\n\u001b[1;32m     13\u001b[0m \u001b[0;34m\u001b[0m\u001b[0m\n",
      "\u001b[0;32m~/opt/anaconda3/lib/python3.9/site-packages/IOHMM/linear_models.py\u001b[0m in \u001b[0;36mpredict_log_proba\u001b[0;34m(self, X)\u001b[0m\n\u001b[1;32m    976\u001b[0m             \u001b[0;32mreturn\u001b[0m \u001b[0mnp\u001b[0m\u001b[0;34m.\u001b[0m\u001b[0mzeros\u001b[0m\u001b[0;34m(\u001b[0m\u001b[0;34m(\u001b[0m\u001b[0mX\u001b[0m\u001b[0;34m.\u001b[0m\u001b[0mshape\u001b[0m\u001b[0;34m[\u001b[0m\u001b[0;36m0\u001b[0m\u001b[0;34m]\u001b[0m\u001b[0;34m,\u001b[0m \u001b[0;36m1\u001b[0m\u001b[0;34m)\u001b[0m\u001b[0;34m)\u001b[0m\u001b[0;34m\u001b[0m\u001b[0;34m\u001b[0m\u001b[0m\n\u001b[1;32m    977\u001b[0m \u001b[0;34m\u001b[0m\u001b[0m\n\u001b[0;32m--> 978\u001b[0;31m         \u001b[0;32mreturn\u001b[0m \u001b[0mself\u001b[0m\u001b[0;34m.\u001b[0m\u001b[0m_model\u001b[0m\u001b[0;34m.\u001b[0m\u001b[0mpredict_log_proba\u001b[0m\u001b[0;34m(\u001b[0m\u001b[0mX\u001b[0m\u001b[0;34m)\u001b[0m\u001b[0;34m\u001b[0m\u001b[0;34m\u001b[0m\u001b[0m\n\u001b[0m\u001b[1;32m    979\u001b[0m \u001b[0;34m\u001b[0m\u001b[0m\n\u001b[1;32m    980\u001b[0m     \u001b[0;32mdef\u001b[0m \u001b[0mpredict\u001b[0m\u001b[0;34m(\u001b[0m\u001b[0mself\u001b[0m\u001b[0;34m,\u001b[0m \u001b[0mX\u001b[0m\u001b[0;34m)\u001b[0m\u001b[0;34m:\u001b[0m\u001b[0;34m\u001b[0m\u001b[0;34m\u001b[0m\u001b[0m\n",
      "\u001b[0;32m~/opt/anaconda3/lib/python3.9/site-packages/sklearn/linear_model/_logistic.py\u001b[0m in \u001b[0;36mpredict_log_proba\u001b[0;34m(self, X)\u001b[0m\n\u001b[1;32m   1339\u001b[0m             \u001b[0mmodel\u001b[0m\u001b[0;34m,\u001b[0m \u001b[0mwhere\u001b[0m \u001b[0mclasses\u001b[0m \u001b[0mare\u001b[0m \u001b[0mordered\u001b[0m \u001b[0;32mas\u001b[0m \u001b[0mthey\u001b[0m \u001b[0mare\u001b[0m \u001b[0;32min\u001b[0m\u001b[0;31m \u001b[0m\u001b[0;31m`\u001b[0m\u001b[0;31m`\u001b[0m\u001b[0mself\u001b[0m\u001b[0;34m.\u001b[0m\u001b[0mclasses_\u001b[0m\u001b[0;31m`\u001b[0m\u001b[0;31m`\u001b[0m\u001b[0;34m.\u001b[0m\u001b[0;34m\u001b[0m\u001b[0;34m\u001b[0m\u001b[0m\n\u001b[1;32m   1340\u001b[0m         \"\"\"\n\u001b[0;32m-> 1341\u001b[0;31m         \u001b[0;32mreturn\u001b[0m \u001b[0mnp\u001b[0m\u001b[0;34m.\u001b[0m\u001b[0mlog\u001b[0m\u001b[0;34m(\u001b[0m\u001b[0mself\u001b[0m\u001b[0;34m.\u001b[0m\u001b[0mpredict_proba\u001b[0m\u001b[0;34m(\u001b[0m\u001b[0mX\u001b[0m\u001b[0;34m)\u001b[0m\u001b[0;34m)\u001b[0m\u001b[0;34m\u001b[0m\u001b[0;34m\u001b[0m\u001b[0m\n\u001b[0m\u001b[1;32m   1342\u001b[0m \u001b[0;34m\u001b[0m\u001b[0m\n\u001b[1;32m   1343\u001b[0m \u001b[0;34m\u001b[0m\u001b[0m\n",
      "\u001b[0;32m~/opt/anaconda3/lib/python3.9/site-packages/sklearn/linear_model/_logistic.py\u001b[0m in \u001b[0;36mpredict_proba\u001b[0;34m(self, X)\u001b[0m\n\u001b[1;32m   1309\u001b[0m         )\n\u001b[1;32m   1310\u001b[0m         \u001b[0;32mif\u001b[0m \u001b[0movr\u001b[0m\u001b[0;34m:\u001b[0m\u001b[0;34m\u001b[0m\u001b[0;34m\u001b[0m\u001b[0m\n\u001b[0;32m-> 1311\u001b[0;31m             \u001b[0;32mreturn\u001b[0m \u001b[0msuper\u001b[0m\u001b[0;34m(\u001b[0m\u001b[0;34m)\u001b[0m\u001b[0;34m.\u001b[0m\u001b[0m_predict_proba_lr\u001b[0m\u001b[0;34m(\u001b[0m\u001b[0mX\u001b[0m\u001b[0;34m)\u001b[0m\u001b[0;34m\u001b[0m\u001b[0;34m\u001b[0m\u001b[0m\n\u001b[0m\u001b[1;32m   1312\u001b[0m         \u001b[0;32melse\u001b[0m\u001b[0;34m:\u001b[0m\u001b[0;34m\u001b[0m\u001b[0;34m\u001b[0m\u001b[0m\n\u001b[1;32m   1313\u001b[0m             \u001b[0mdecision\u001b[0m \u001b[0;34m=\u001b[0m \u001b[0mself\u001b[0m\u001b[0;34m.\u001b[0m\u001b[0mdecision_function\u001b[0m\u001b[0;34m(\u001b[0m\u001b[0mX\u001b[0m\u001b[0;34m)\u001b[0m\u001b[0;34m\u001b[0m\u001b[0;34m\u001b[0m\u001b[0m\n",
      "\u001b[0;32m~/opt/anaconda3/lib/python3.9/site-packages/sklearn/linear_model/_base.py\u001b[0m in \u001b[0;36m_predict_proba_lr\u001b[0;34m(self, X)\u001b[0m\n\u001b[1;32m    459\u001b[0m         \u001b[0mmulticlass\u001b[0m \u001b[0;32mis\u001b[0m \u001b[0mhandled\u001b[0m \u001b[0mby\u001b[0m \u001b[0mnormalizing\u001b[0m \u001b[0mthat\u001b[0m \u001b[0mover\u001b[0m \u001b[0mall\u001b[0m \u001b[0mclasses\u001b[0m\u001b[0;34m.\u001b[0m\u001b[0;34m\u001b[0m\u001b[0;34m\u001b[0m\u001b[0m\n\u001b[1;32m    460\u001b[0m         \"\"\"\n\u001b[0;32m--> 461\u001b[0;31m         \u001b[0mprob\u001b[0m \u001b[0;34m=\u001b[0m \u001b[0mself\u001b[0m\u001b[0;34m.\u001b[0m\u001b[0mdecision_function\u001b[0m\u001b[0;34m(\u001b[0m\u001b[0mX\u001b[0m\u001b[0;34m)\u001b[0m\u001b[0;34m\u001b[0m\u001b[0;34m\u001b[0m\u001b[0m\n\u001b[0m\u001b[1;32m    462\u001b[0m         \u001b[0mexpit\u001b[0m\u001b[0;34m(\u001b[0m\u001b[0mprob\u001b[0m\u001b[0;34m,\u001b[0m \u001b[0mout\u001b[0m\u001b[0;34m=\u001b[0m\u001b[0mprob\u001b[0m\u001b[0;34m)\u001b[0m\u001b[0;34m\u001b[0m\u001b[0;34m\u001b[0m\u001b[0m\n\u001b[1;32m    463\u001b[0m         \u001b[0;32mif\u001b[0m \u001b[0mprob\u001b[0m\u001b[0;34m.\u001b[0m\u001b[0mndim\u001b[0m \u001b[0;34m==\u001b[0m \u001b[0;36m1\u001b[0m\u001b[0;34m:\u001b[0m\u001b[0;34m\u001b[0m\u001b[0;34m\u001b[0m\u001b[0m\n",
      "\u001b[0;32m~/opt/anaconda3/lib/python3.9/site-packages/sklearn/linear_model/_base.py\u001b[0m in \u001b[0;36mdecision_function\u001b[0;34m(self, X)\u001b[0m\n\u001b[1;32m    427\u001b[0m         \u001b[0mcheck_is_fitted\u001b[0m\u001b[0;34m(\u001b[0m\u001b[0mself\u001b[0m\u001b[0;34m)\u001b[0m\u001b[0;34m\u001b[0m\u001b[0;34m\u001b[0m\u001b[0m\n\u001b[1;32m    428\u001b[0m \u001b[0;34m\u001b[0m\u001b[0m\n\u001b[0;32m--> 429\u001b[0;31m         \u001b[0mX\u001b[0m \u001b[0;34m=\u001b[0m \u001b[0mself\u001b[0m\u001b[0;34m.\u001b[0m\u001b[0m_validate_data\u001b[0m\u001b[0;34m(\u001b[0m\u001b[0mX\u001b[0m\u001b[0;34m,\u001b[0m \u001b[0maccept_sparse\u001b[0m\u001b[0;34m=\u001b[0m\u001b[0;34m\"csr\"\u001b[0m\u001b[0;34m,\u001b[0m \u001b[0mreset\u001b[0m\u001b[0;34m=\u001b[0m\u001b[0;32mFalse\u001b[0m\u001b[0;34m)\u001b[0m\u001b[0;34m\u001b[0m\u001b[0;34m\u001b[0m\u001b[0m\n\u001b[0m\u001b[1;32m    430\u001b[0m         \u001b[0mscores\u001b[0m \u001b[0;34m=\u001b[0m \u001b[0msafe_sparse_dot\u001b[0m\u001b[0;34m(\u001b[0m\u001b[0mX\u001b[0m\u001b[0;34m,\u001b[0m \u001b[0mself\u001b[0m\u001b[0;34m.\u001b[0m\u001b[0mcoef_\u001b[0m\u001b[0;34m.\u001b[0m\u001b[0mT\u001b[0m\u001b[0;34m,\u001b[0m \u001b[0mdense_output\u001b[0m\u001b[0;34m=\u001b[0m\u001b[0;32mTrue\u001b[0m\u001b[0;34m)\u001b[0m \u001b[0;34m+\u001b[0m \u001b[0mself\u001b[0m\u001b[0;34m.\u001b[0m\u001b[0mintercept_\u001b[0m\u001b[0;34m\u001b[0m\u001b[0;34m\u001b[0m\u001b[0m\n\u001b[1;32m    431\u001b[0m         \u001b[0;32mreturn\u001b[0m \u001b[0mscores\u001b[0m\u001b[0;34m.\u001b[0m\u001b[0mravel\u001b[0m\u001b[0;34m(\u001b[0m\u001b[0;34m)\u001b[0m \u001b[0;32mif\u001b[0m \u001b[0mscores\u001b[0m\u001b[0;34m.\u001b[0m\u001b[0mshape\u001b[0m\u001b[0;34m[\u001b[0m\u001b[0;36m1\u001b[0m\u001b[0;34m]\u001b[0m \u001b[0;34m==\u001b[0m \u001b[0;36m1\u001b[0m \u001b[0;32melse\u001b[0m \u001b[0mscores\u001b[0m\u001b[0;34m\u001b[0m\u001b[0;34m\u001b[0m\u001b[0m\n",
      "\u001b[0;32m~/opt/anaconda3/lib/python3.9/site-packages/sklearn/base.py\u001b[0m in \u001b[0;36m_validate_data\u001b[0;34m(self, X, y, reset, validate_separately, **check_params)\u001b[0m\n\u001b[1;32m    575\u001b[0m             \u001b[0;32mraise\u001b[0m \u001b[0mValueError\u001b[0m\u001b[0;34m(\u001b[0m\u001b[0;34m\"Validation should be done on X, y or both.\"\u001b[0m\u001b[0;34m)\u001b[0m\u001b[0;34m\u001b[0m\u001b[0;34m\u001b[0m\u001b[0m\n\u001b[1;32m    576\u001b[0m         \u001b[0;32melif\u001b[0m \u001b[0;32mnot\u001b[0m \u001b[0mno_val_X\u001b[0m \u001b[0;32mand\u001b[0m \u001b[0mno_val_y\u001b[0m\u001b[0;34m:\u001b[0m\u001b[0;34m\u001b[0m\u001b[0;34m\u001b[0m\u001b[0m\n\u001b[0;32m--> 577\u001b[0;31m             \u001b[0mX\u001b[0m \u001b[0;34m=\u001b[0m \u001b[0mcheck_array\u001b[0m\u001b[0;34m(\u001b[0m\u001b[0mX\u001b[0m\u001b[0;34m,\u001b[0m \u001b[0minput_name\u001b[0m\u001b[0;34m=\u001b[0m\u001b[0;34m\"X\"\u001b[0m\u001b[0;34m,\u001b[0m \u001b[0;34m**\u001b[0m\u001b[0mcheck_params\u001b[0m\u001b[0;34m)\u001b[0m\u001b[0;34m\u001b[0m\u001b[0;34m\u001b[0m\u001b[0m\n\u001b[0m\u001b[1;32m    578\u001b[0m             \u001b[0mout\u001b[0m \u001b[0;34m=\u001b[0m \u001b[0mX\u001b[0m\u001b[0;34m\u001b[0m\u001b[0;34m\u001b[0m\u001b[0m\n\u001b[1;32m    579\u001b[0m         \u001b[0;32melif\u001b[0m \u001b[0mno_val_X\u001b[0m \u001b[0;32mand\u001b[0m \u001b[0;32mnot\u001b[0m \u001b[0mno_val_y\u001b[0m\u001b[0;34m:\u001b[0m\u001b[0;34m\u001b[0m\u001b[0;34m\u001b[0m\u001b[0m\n",
      "\u001b[0;32m~/opt/anaconda3/lib/python3.9/site-packages/sklearn/utils/validation.py\u001b[0m in \u001b[0;36mcheck_array\u001b[0;34m(array, accept_sparse, accept_large_sparse, dtype, order, copy, force_all_finite, ensure_2d, allow_nd, ensure_min_samples, ensure_min_features, estimator, input_name)\u001b[0m\n\u001b[1;32m    838\u001b[0m         \u001b[0;32mwith\u001b[0m \u001b[0mwarnings\u001b[0m\u001b[0;34m.\u001b[0m\u001b[0mcatch_warnings\u001b[0m\u001b[0;34m(\u001b[0m\u001b[0;34m)\u001b[0m\u001b[0;34m:\u001b[0m\u001b[0;34m\u001b[0m\u001b[0;34m\u001b[0m\u001b[0m\n\u001b[1;32m    839\u001b[0m             \u001b[0;32mtry\u001b[0m\u001b[0;34m:\u001b[0m\u001b[0;34m\u001b[0m\u001b[0;34m\u001b[0m\u001b[0m\n\u001b[0;32m--> 840\u001b[0;31m                 \u001b[0mwarnings\u001b[0m\u001b[0;34m.\u001b[0m\u001b[0msimplefilter\u001b[0m\u001b[0;34m(\u001b[0m\u001b[0;34m\"error\"\u001b[0m\u001b[0;34m,\u001b[0m \u001b[0mComplexWarning\u001b[0m\u001b[0;34m)\u001b[0m\u001b[0;34m\u001b[0m\u001b[0;34m\u001b[0m\u001b[0m\n\u001b[0m\u001b[1;32m    841\u001b[0m                 \u001b[0;32mif\u001b[0m \u001b[0mdtype\u001b[0m \u001b[0;32mis\u001b[0m \u001b[0;32mnot\u001b[0m \u001b[0;32mNone\u001b[0m \u001b[0;32mand\u001b[0m \u001b[0mnp\u001b[0m\u001b[0;34m.\u001b[0m\u001b[0mdtype\u001b[0m\u001b[0;34m(\u001b[0m\u001b[0mdtype\u001b[0m\u001b[0;34m)\u001b[0m\u001b[0;34m.\u001b[0m\u001b[0mkind\u001b[0m \u001b[0;32min\u001b[0m \u001b[0;34m\"iu\"\u001b[0m\u001b[0;34m:\u001b[0m\u001b[0;34m\u001b[0m\u001b[0;34m\u001b[0m\u001b[0m\n\u001b[1;32m    842\u001b[0m                     \u001b[0;31m# Conversion float -> int should not contain NaN or\u001b[0m\u001b[0;34m\u001b[0m\u001b[0;34m\u001b[0m\u001b[0m\n",
      "\u001b[0;32m~/opt/anaconda3/lib/python3.9/warnings.py\u001b[0m in \u001b[0;36msimplefilter\u001b[0;34m(action, category, lineno, append)\u001b[0m\n\u001b[1;32m    177\u001b[0m     \u001b[0;32massert\u001b[0m \u001b[0misinstance\u001b[0m\u001b[0;34m(\u001b[0m\u001b[0mlineno\u001b[0m\u001b[0;34m,\u001b[0m \u001b[0mint\u001b[0m\u001b[0;34m)\u001b[0m \u001b[0;32mand\u001b[0m \u001b[0mlineno\u001b[0m \u001b[0;34m>=\u001b[0m \u001b[0;36m0\u001b[0m\u001b[0;34m,\u001b[0m\u001b[0;31m \u001b[0m\u001b[0;31m\\\u001b[0m\u001b[0;34m\u001b[0m\u001b[0;34m\u001b[0m\u001b[0m\n\u001b[1;32m    178\u001b[0m            \u001b[0;34m\"lineno must be an int >= 0\"\u001b[0m\u001b[0;34m\u001b[0m\u001b[0;34m\u001b[0m\u001b[0m\n\u001b[0;32m--> 179\u001b[0;31m     \u001b[0m_add_filter\u001b[0m\u001b[0;34m(\u001b[0m\u001b[0maction\u001b[0m\u001b[0;34m,\u001b[0m \u001b[0;32mNone\u001b[0m\u001b[0;34m,\u001b[0m \u001b[0mcategory\u001b[0m\u001b[0;34m,\u001b[0m \u001b[0;32mNone\u001b[0m\u001b[0;34m,\u001b[0m \u001b[0mlineno\u001b[0m\u001b[0;34m,\u001b[0m \u001b[0mappend\u001b[0m\u001b[0;34m=\u001b[0m\u001b[0mappend\u001b[0m\u001b[0;34m)\u001b[0m\u001b[0;34m\u001b[0m\u001b[0;34m\u001b[0m\u001b[0m\n\u001b[0m\u001b[1;32m    180\u001b[0m \u001b[0;34m\u001b[0m\u001b[0m\n\u001b[1;32m    181\u001b[0m \u001b[0;32mdef\u001b[0m \u001b[0m_add_filter\u001b[0m\u001b[0;34m(\u001b[0m\u001b[0;34m*\u001b[0m\u001b[0mitem\u001b[0m\u001b[0;34m,\u001b[0m \u001b[0mappend\u001b[0m\u001b[0;34m)\u001b[0m\u001b[0;34m:\u001b[0m\u001b[0;34m\u001b[0m\u001b[0;34m\u001b[0m\u001b[0m\n",
      "\u001b[0;32m~/opt/anaconda3/lib/python3.9/warnings.py\u001b[0m in \u001b[0;36m_add_filter\u001b[0;34m(append, *item)\u001b[0m\n\u001b[1;32m    186\u001b[0m             \u001b[0mfilters\u001b[0m\u001b[0;34m.\u001b[0m\u001b[0mremove\u001b[0m\u001b[0;34m(\u001b[0m\u001b[0mitem\u001b[0m\u001b[0;34m)\u001b[0m\u001b[0;34m\u001b[0m\u001b[0;34m\u001b[0m\u001b[0m\n\u001b[1;32m    187\u001b[0m         \u001b[0;32mexcept\u001b[0m \u001b[0mValueError\u001b[0m\u001b[0;34m:\u001b[0m\u001b[0;34m\u001b[0m\u001b[0;34m\u001b[0m\u001b[0m\n\u001b[0;32m--> 188\u001b[0;31m             \u001b[0;32mpass\u001b[0m\u001b[0;34m\u001b[0m\u001b[0;34m\u001b[0m\u001b[0m\n\u001b[0m\u001b[1;32m    189\u001b[0m         \u001b[0mfilters\u001b[0m\u001b[0;34m.\u001b[0m\u001b[0minsert\u001b[0m\u001b[0;34m(\u001b[0m\u001b[0;36m0\u001b[0m\u001b[0;34m,\u001b[0m \u001b[0mitem\u001b[0m\u001b[0;34m)\u001b[0m\u001b[0;34m\u001b[0m\u001b[0;34m\u001b[0m\u001b[0m\n\u001b[1;32m    190\u001b[0m     \u001b[0;32melse\u001b[0m\u001b[0;34m:\u001b[0m\u001b[0;34m\u001b[0m\u001b[0;34m\u001b[0m\u001b[0m\n",
      "\u001b[0;31mKeyboardInterrupt\u001b[0m: "
     ]
    }
   ],
   "source": [
    "hmm_attack_helper(model, 20,0,0.5,0.15, test_humans)"
   ]
  },
  {
   "cell_type": "code",
   "execution_count": 581,
   "id": "b1737f8f",
   "metadata": {},
   "outputs": [
    {
     "name": "stdout",
     "output_type": "stream",
     "text": [
      "[[<IOHMM.linear_models.DiscreteMNL object at 0x7fd51218cfd0>], [<IOHMM.linear_models.DiscreteMNL object at 0x7fd51218c8b0>]]\n",
      "[[-4.93775113  0.32891401 -0.2837964 ]]\n"
     ]
    }
   ],
   "source": [
    "#eval hmm-based algorithm\n",
    "\n",
    "#1. contruct human behavior data\n",
    "hmm_data = selected_data\n",
    "behavior_data = []\n",
    "hmm_data[\"reliance\"] = hmm_data[\"reliance\"].apply(lambda x: 1 if x == True else -1)\n",
    "hmm_data[\"attack\"] = hmm_data[\"attack\"].apply(lambda x:1 if x == 0 else x)\n",
    "hmm_data[\"human_confidence\"] = hmm_data[\"human_confidence\"].apply(lambda x:-1 if x == 0 else x)\n",
    "workers = list(set(selected_data[\"workerId\"]))\n",
    "for w in workers:\n",
    "    d = hmm_data.query(\"workerId==@w\").sort_values(by=[\"taskId\"])\n",
    "    behavior_data.append(d[[\"human_confidence\",\"attack\", \"reliance\"]])\n",
    "initial_columns = [\"human_confidence\", \"attack\"]\n",
    "transition_columns = [\"human_confidence\", \"attack\"]\n",
    "decision_columns = [\"human_confidence\", \"attack\"]\n",
    "\n",
    "model = UnSupervisedIOHMM(num_states=2, max_EM_iter=200, EM_tol=1e-6)\n",
    "\n",
    "model.set_models(model_emissions = [DiscreteMNL(solver='lbfgs')], \n",
    "                model_transition=CrossEntropyMNL(solver='lbfgs'),\n",
    "                model_initial=CrossEntropyMNL(solver='lbfgs'))\n",
    "\n",
    "model.set_inputs(covariates_initial = initial_columns, covariates_transition = initial_columns, covariates_emissions = [initial_columns])\n",
    "\n",
    "model.set_outputs([['reliance']])\n",
    "\n",
    "model.set_data(behavior_data)\n",
    "model.train()"
   ]
  },
  {
   "cell_type": "code",
   "execution_count": null,
   "id": "7d9a9739",
   "metadata": {},
   "outputs": [],
   "source": []
  },
  {
   "cell_type": "code",
   "execution_count": 559,
   "id": "ef5732f4",
   "metadata": {},
   "outputs": [
    {
     "name": "stdout",
     "output_type": "stream",
     "text": [
      "[[ 0.28434979  0.40929626 -0.9641088 ]]\n"
     ]
    }
   ],
   "source": []
  },
  {
   "cell_type": "code",
   "execution_count": null,
   "id": "b49bd9f7",
   "metadata": {},
   "outputs": [],
   "source": []
  },
  {
   "cell_type": "code",
   "execution_count": 471,
   "id": "c5f63a32",
   "metadata": {},
   "outputs": [],
   "source": [
    "# construct the dataset\n",
    "import torch\n",
    "from torch.distributions.multivariate_normal import MultivariateNormal\n",
    "from sklearn.model_selection import train_test_split\n",
    "def assign_task(n):\n",
    "    sequence = np.random.random(n)\n",
    "    sequence[sequence>0.5] = 1\n",
    "    sequence[sequence<=0.5] = 0\n",
    "    return sequence\n",
    "    \n",
    "\n",
    "N =1000\n",
    "# analyze human reliance prob\n",
    "query = pd.read_csv(\"query_.csv\")\n",
    "data = pd.read_csv(\"predictions_0110.csv\")\n",
    "data[\"taskId\"] = data[\"taskId\"].apply(lambda x:int(x))\n",
    "data = data[data[\"taskId\"]<16]\n",
    "data[\"human_confidence\"] = data[\"imageName\"].apply(lambda x:query.query(\"Name==@x\")[\"Confidence_Pred_val\"].item())\n",
    "data[\"human_confidence\"] = data[\"human_confidence\"].apply(lambda x:1 if x>0.5 else 0)\n",
    "selected_data = data[data[\"attackType\"]==0]\n",
    "workers = list(set(selected_data[\"workerId\"]))\n",
    "h_a = []\n",
    "h_n = []\n",
    "l_a = []\n",
    "l_n = []\n",
    "for w in workers:\n",
    "    d = data.query(\"workerId==@w\")\n",
    "    h_num = len(d.query(\"human_confidence==1\")[\"reliance\"])\n",
    "    l_num = len(d.query(\"human_confidence==0\")[\"reliance\"])\n",
    "    h_a.append(d.query(\"human_confidence==1 and attack==0\")[\"reliance\"].sum()/h_num)\n",
    "    h_n.append(d.query(\"human_confidence==1 and attack==-1\")[\"reliance\"].sum()/h_num)\n",
    "    l_a.append(d.query(\"human_confidence==0 and attack==0\")[\"reliance\"].sum()/l_num)\n",
    "    l_n.append(d.query(\"human_confidence==0 and attack==-1\")[\"reliance\"].sum()/l_num)\n",
    "mean = torch.tensor([np.mean(l_a),np.mean(h_a),np.mean(l_n),np.mean(h_n)])\n",
    "var = torch.tensor([[covxy(l_a,l_a),covxy(l_a,h_a),covxy(l_a,l_n),covxy(l_a,h_n)],[covxy(h_a,l_a),covxy(h_a,h_a),covxy(h_a,l_n),covxy(h_a,h_n)],\n",
    "                   [covxy(l_n,l_a),covxy(l_n,h_a),covxy(l_n,l_n),covxy(l_n,h_n)],[covxy(h_n,l_a),covxy(h_n,h_a),covxy(h_n,l_n),covxy(h_n,h_n)]])\n",
    "\n",
    "dis = MultivariateNormal(mean, var)\n",
    "prob = dis.sample([N])\n",
    "humans = []\n",
    "for i in range(prob.shape[0]):\n",
    "    flag = 0\n",
    "    for j in range(prob.shape[1]):\n",
    "        if prob[i,j] >= 1 or prob[i,j]<=0:\n",
    "            flag = 0\n",
    "            break\n",
    "        else:\n",
    "            flag = 1\n",
    "    if flag == 1:\n",
    "        humans.append(prob[i,:].numpy())\n",
    "\n",
    "task_pool = assign_task(n=20)"
   ]
  },
  {
   "cell_type": "code",
   "execution_count": null,
   "id": "ac2d0822",
   "metadata": {},
   "outputs": [],
   "source": []
  },
  {
   "cell_type": "code",
   "execution_count": 654,
   "id": "0a15b5f6",
   "metadata": {
    "scrolled": true
   },
   "outputs": [],
   "source": [
    "dis = MultivariateNormal(mean, var)\n",
    "prob = dis.sample([N])\n",
    "humans = []\n",
    "for i in range(prob.shape[0]):\n",
    "    flag = 0\n",
    "    for j in range(prob.shape[1]):\n",
    "        if prob[i,j] >= 1 or prob[i,j]<=0:\n",
    "            flag = 0\n",
    "            break\n",
    "        else:\n",
    "            flag = 1\n",
    "    if flag == 1:\n",
    "        humans.append(prob[i,:].numpy())\n",
    "train_human, test_human, _, _ = train_test_split(humans,[0 for i in range(len(humans))], test_size=0.1, random_state=2023)\n",
    "test_humans = [np.concatenate((i,i),0) for i in test_human]\n",
    "# baselines [low_attack, high_attack, low_no, high_No]\n",
    "W_a = [-1,-0.5,0]\n",
    "W_r = [0.25,0.75,1]\n",
    "C = np.linspace(0,1,11)\n",
    "# no attack\n",
    "def no_attack_helper(n, w_a, w_r, c, humans):\n",
    "    accept = 0\n",
    "    reject = 0\n",
    "    attack = 0\n",
    "    for h in humans:\n",
    "        tasks = assign_task(n)\n",
    "        for t in tasks:\n",
    "            if t == 0:\n",
    "                d = np.random.choice([0,1],p=[1-h[2],h[2]])\n",
    "            else:\n",
    "                d = np.random.choice([0,1],p=[1-h[3],h[3]])\n",
    "            if d == 1:\n",
    "                accept += 1\n",
    "            else:\n",
    "                reject += 1\n",
    "\n",
    "    return w_a * accept + w_r * reject - attack * c\n",
    "\n",
    "\n",
    "def all_attack_helper(n, w_a, w_r, c, humans):\n",
    "    accept = 0\n",
    "    reject = 0\n",
    "    attack = n\n",
    "    for h in humans:\n",
    "        tasks = assign_task(n)\n",
    "        for t in tasks:\n",
    "            if t == 0:\n",
    "                d = np.random.choice([0,1],p=[1-h[0],h[0]])\n",
    "            else:\n",
    "                d = np.random.choice([0,1],p=[1-h[1],h[1]])\n",
    "            if d == 1:\n",
    "                accept += 1\n",
    "            else:\n",
    "                reject += 1\n",
    "\n",
    "    return w_a * accept + w_r * reject - n*len(humans) * c\n",
    "\n",
    "def half_attack_helper(n, w_a, w_r, c, humans):\n",
    "    accept = 0\n",
    "    reject = 0\n",
    "    attack = 0\n",
    "   \n",
    "    for h in humans:\n",
    "        tasks = assign_task(n)\n",
    "        p = np.random.choice([i for i in range(n)],n//2, replace =None)\n",
    "        attack_p = np.zeros(n)\n",
    "        attack_p[p] = 1\n",
    "        for k, t in enumerate(tasks):\n",
    "            if t == 0 and attack_p[k]==0:\n",
    "                d = np.random.choice([0,1],p=[1-h[2],h[2]])\n",
    "            elif t == 1 and attack_p[k]==0:\n",
    "                d = np.random.choice([0,1],p=[1-h[3],h[3]])\n",
    "            elif t == 0 and attack_p[k] == 1:\n",
    "                attack+= 1\n",
    "                d = np.random.choice([0,1],p=[1-h[0],h[0]])\n",
    "            else:\n",
    "                attack+=1\n",
    "                d = np.random.choice([0,1],p=[1-h[1],h[1]])  \n",
    "            if d == 1:\n",
    "                accept += 1\n",
    "            else:\n",
    "                reject += 1\n",
    "    return w_a * accept + w_r * reject - attack*c\n",
    "\n",
    "def high_confidence_attack_helper(n, w_a, w_r, c, humans):\n",
    "    accept = 0\n",
    "    reject = 0\n",
    "    attack = 0\n",
    "    for h in humans:\n",
    "        tasks = assign_task(n)\n",
    "        for t in tasks:\n",
    "            if t == 0:\n",
    "                d = np.random.choice([0,1],p=[1-h[2],h[2]])\n",
    "            else:\n",
    "                d = np.random.choice([0,1],p=[1-h[1],h[1]])\n",
    "                attack += 1\n",
    "            if d == 1:\n",
    "                accept += 1\n",
    "            else:\n",
    "                reject += 1\n",
    "    return w_a * accept + w_r * reject - attack * c\n",
    "\n",
    "\n",
    "def eval_func(func, n, w_a, w_r, c, humans, num=50):\n",
    "    u = []\n",
    "    for _ in range(num):\n",
    "        u.append(func(n, w_a,w_r,c,humans))\n",
    "    return sum(u)/num\n",
    "    \n",
    "    \n"
   ]
  },
  {
   "cell_type": "code",
   "execution_count": 655,
   "id": "b01a1b4b",
   "metadata": {},
   "outputs": [
    {
     "name": "stdout",
     "output_type": "stream",
     "text": [
      "attack cost:---->0.0\n",
      "high confidence:280.4\n",
      "half attack:312.22\n",
      "all attack:400.54\n",
      "no attack:221.47\n",
      "attack cost:---->0.05\n",
      "high confidence:252.95700000000005\n",
      "half attack:285.33\n",
      "all attack:349.8\n",
      "no attack:224.35\n",
      "attack cost:---->0.1\n",
      "high confidence:226.926\n",
      "half attack:263.23\n",
      "all attack:297.01\n",
      "no attack:223.23\n",
      "attack cost:---->0.15000000000000002\n",
      "high confidence:200.246\n",
      "half attack:236.29\n",
      "all attack:249.39999999999998\n",
      "no attack:221.73\n",
      "attack cost:---->0.2\n",
      "high confidence:177.40399999999997\n",
      "half attack:209.49\n",
      "all attack:197.4\n",
      "no attack:222.04\n",
      "attack cost:---->0.25\n",
      "high confidence:150.625\n",
      "half attack:184.42\n",
      "all attack:145.97\n",
      "no attack:221.62\n",
      "attack cost:---->0.30000000000000004\n",
      "high confidence:123.49199999999998\n",
      "half attack:159.92\n",
      "all attack:96.12999999999998\n",
      "no attack:222.74\n",
      "attack cost:---->0.35000000000000003\n",
      "high confidence:97.90899999999999\n",
      "half attack:132.82\n",
      "all attack:44.93999999999998\n",
      "no attack:222.94\n",
      "attack cost:---->0.4\n",
      "high confidence:73.13399999999999\n",
      "half attack:108.91\n",
      "all attack:-6.41\n",
      "no attack:222.98\n"
     ]
    }
   ],
   "source": [
    "C = np.linspace(0,0.4,9)\n",
    "\n",
    "for c in C:\n",
    "    print(\"attack cost:---->{}\".format(c))\n",
    "    print(\"high confidence:{}\".format(eval_func(high_confidence_attack_helper,20,0,0.5,c, test_humans)))\n",
    "    print(\"half attack:{}\".format(eval_func(half_attack_helper,20,0,0.5,c, test_humans)))\n",
    "    print(\"all attack:{}\".format(eval_func(all_attack_helper,20,0,0.5,c, test_humans)))\n",
    "    print(\"no attack:{}\".format(eval_func(no_attack_helper, 20,0,0.5,c, test_humans)))"
   ]
  },
  {
   "cell_type": "code",
   "execution_count": null,
   "id": "89a6dc21",
   "metadata": {},
   "outputs": [],
   "source": []
  },
  {
   "cell_type": "code",
   "execution_count": null,
   "id": "b8d6bfba",
   "metadata": {},
   "outputs": [],
   "source": []
  },
  {
   "cell_type": "code",
   "execution_count": null,
   "id": "0ecdc0d6",
   "metadata": {},
   "outputs": [],
   "source": []
  },
  {
   "cell_type": "code",
   "execution_count": null,
   "id": "a56cb3e1",
   "metadata": {},
   "outputs": [],
   "source": []
  },
  {
   "cell_type": "code",
   "execution_count": null,
   "id": "8ab9c9ed",
   "metadata": {},
   "outputs": [],
   "source": []
  },
  {
   "cell_type": "code",
   "execution_count": null,
   "id": "7c959306",
   "metadata": {},
   "outputs": [],
   "source": []
  },
  {
   "cell_type": "code",
   "execution_count": 365,
   "id": "27b58c3f",
   "metadata": {},
   "outputs": [
    {
     "data": {
      "text/plain": [
       "tensor([[ 0.0143,  0.0016, -0.0003,  0.0133],\n",
       "        [ 0.0016,  0.0487,  0.0315, -0.0071],\n",
       "        [-0.0003,  0.0315,  0.0792,  0.0026],\n",
       "        [ 0.0133, -0.0071,  0.0026,  0.0508]], dtype=torch.float64)"
      ]
     },
     "execution_count": 365,
     "metadata": {},
     "output_type": "execute_result"
    }
   ],
   "source": [
    "var"
   ]
  },
  {
   "cell_type": "code",
   "execution_count": null,
   "id": "c32e42a3",
   "metadata": {},
   "outputs": [],
   "source": []
  },
  {
   "cell_type": "code",
   "execution_count": null,
   "id": "578679b7",
   "metadata": {},
   "outputs": [],
   "source": []
  },
  {
   "cell_type": "code",
   "execution_count": 321,
   "id": "34c3ac4b",
   "metadata": {},
   "outputs": [
    {
     "data": {
      "text/plain": [
       "6"
      ]
     },
     "execution_count": 321,
     "metadata": {},
     "output_type": "execute_result"
    }
   ],
   "source": [
    "d.query(\"human_confidence==0 and attack==-1\")[\"reliance\"].sum()"
   ]
  },
  {
   "cell_type": "code",
   "execution_count": 319,
   "id": "2cf0db39",
   "metadata": {},
   "outputs": [
    {
     "data": {
      "text/plain": [
       "157     True\n",
       "2316    True\n",
       "2987    True\n",
       "4349    True\n",
       "Name: reliance, dtype: bool"
      ]
     },
     "execution_count": 319,
     "metadata": {},
     "output_type": "execute_result"
    }
   ],
   "source": [
    "d.query(\"human_confidence==1 and attack==-1\")[\"reliance\"]"
   ]
  },
  {
   "cell_type": "code",
   "execution_count": 320,
   "id": "e49affbf",
   "metadata": {},
   "outputs": [
    {
     "data": {
      "text/plain": [
       "486     False\n",
       "1829    False\n",
       "1838    False\n",
       "4263    False\n",
       "Name: reliance, dtype: bool"
      ]
     },
     "execution_count": 320,
     "metadata": {},
     "output_type": "execute_result"
    }
   ],
   "source": [
    "d.query(\"human_confidence==1 and attack==0\")[\"reliance\"]"
   ]
  },
  {
   "cell_type": "code",
   "execution_count": null,
   "id": "917d6b77",
   "metadata": {},
   "outputs": [],
   "source": []
  },
  {
   "cell_type": "code",
   "execution_count": null,
   "id": "629ca3e7",
   "metadata": {},
   "outputs": [],
   "source": []
  },
  {
   "cell_type": "code",
   "execution_count": null,
   "id": "4ff69cc8",
   "metadata": {},
   "outputs": [],
   "source": []
  }
 ],
 "metadata": {
  "kernelspec": {
   "display_name": "Python 3 (ipykernel)",
   "language": "python",
   "name": "python3"
  },
  "language_info": {
   "codemirror_mode": {
    "name": "ipython",
    "version": 3
   },
   "file_extension": ".py",
   "mimetype": "text/x-python",
   "name": "python",
   "nbconvert_exporter": "python",
   "pygments_lexer": "ipython3",
   "version": "3.9.12"
  },
  "vscode": {
   "interpreter": {
    "hash": "685ef0cffa40cddddc672a70da356b3b64b48bf05cb3d7fba753d455d3ce387a"
   }
  }
 },
 "nbformat": 4,
 "nbformat_minor": 5
}
