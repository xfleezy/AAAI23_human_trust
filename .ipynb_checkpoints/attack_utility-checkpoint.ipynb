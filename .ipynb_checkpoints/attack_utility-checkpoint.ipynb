{
 "cells": [
  {
   "cell_type": "code",
   "execution_count": 1,
   "id": "a4023e3b",
   "metadata": {},
   "outputs": [],
   "source": [
    "# preprocess data\n",
    "import numpy as np\n",
    "import pandas as pd\n",
    "# from hmm import UnSupervisedIOHMM, SemiSupervisedIOHMM\n",
    "# from hmm import OLS,DiscreteMNL, CrossEntropyMNL\n",
    "\n",
    "import re\n",
    "import copy \n",
    "import numpy as np\n",
    "import pandas as pd\n",
    "from sklearn.preprocessing import OneHotEncoder\n",
    "from sklearn import preprocessing\n",
    "from sklearn.manifold import TSNE\n",
    "import numpy as np\n",
    "import pandas as pd\n",
    "\n",
    "\n"
   ]
  },
  {
   "cell_type": "code",
   "execution_count": null,
   "id": "58511a93",
   "metadata": {},
   "outputs": [],
   "source": []
  },
  {
   "cell_type": "code",
   "execution_count": 2,
   "id": "c3769d4e",
   "metadata": {},
   "outputs": [],
   "source": [
    "from hmm import OLS,DiscreteMNL, CrossEntropyMNL\n",
    "from hmm import Trust_hmm\n",
    "import random"
   ]
  },
  {
   "cell_type": "code",
   "execution_count": 4,
   "id": "9553e28c",
   "metadata": {},
   "outputs": [],
   "source": [
    "# model training\n",
    "feedback = [\"treatment\",'ml_effect','correct_effect']\n",
    "demo = ['gender0', 'gender1', 'age0', 'age1', 'age2', 'age3', 'age4', 'age5',\n",
    "           'education0', 'education1', 'education2', 'education3', 'education4',\n",
    "           'programming0', 'programming1', 'programming2', 'programming3']\n",
    "context = ['age', 'education.num', 'hours.per.week', 'workclass0', 'workclass1', \n",
    "           'workclass2', 'marital.status0', 'marital.status1', 'marital.status2',\n",
    "           'occupation0', 'occupation1', 'occupation2', 'occupation3',\n",
    "           'occupation4', 'occupation5', 'occupation6', 'occupation7',\n",
    "           'occupation8', 'occupation9', 'occupation10', 'occupation11', 'sex0',\n",
    "           'sex1']\n",
    "\n",
    "feature_columns = ['age', 'education.num', 'hours.per.week', 'workclass0', 'workclass1', \n",
    "           'workclass2', 'marital.status0', 'marital.status1', 'marital.status2',\n",
    "           'occupation0', 'occupation1', 'occupation2', 'occupation3',\n",
    "           'occupation4','ml_effect', 'correct_effect', 'occupation5', 'occupation6', 'occupation7',\n",
    "           'occupation8', 'occupation9', 'occupation10', 'occupation11', 'sex0',\n",
    "           'sex1','gender0', 'gender1', 'age0', 'age1', 'age2', 'age3', 'age4', 'age5',\n",
    "           'education0', 'education1', 'education2', 'education3', 'education4',\n",
    "           'programming0', 'programming1', 'programming2', 'programming3','treatment']\n",
    "\n",
    "initial_columns = feedback + demo + context\n",
    "transition_columns = feedback + context\n",
    "decision_columns = feedback + context\n",
    "\n"
   ]
  },
  {
   "cell_type": "code",
   "execution_count": 5,
   "id": "45217c4f",
   "metadata": {},
   "outputs": [
    {
     "ename": "NameError",
     "evalue": "name 'process_data' is not defined",
     "output_type": "error",
     "traceback": [
      "\u001b[0;31m---------------------------------------------------------------------------\u001b[0m",
      "\u001b[0;31mNameError\u001b[0m                                 Traceback (most recent call last)",
      "\u001b[0;32m/var/folders/dy/kwk0q56105vcyx4cm7ryb62w0000gn/T/ipykernel_12192/740142969.py\u001b[0m in \u001b[0;36m<module>\u001b[0;34m\u001b[0m\n\u001b[1;32m      1\u001b[0m \u001b[0;32mfrom\u001b[0m \u001b[0msklearn\u001b[0m\u001b[0;34m.\u001b[0m\u001b[0mmetrics\u001b[0m \u001b[0;32mimport\u001b[0m \u001b[0mf1_score\u001b[0m\u001b[0;34m\u001b[0m\u001b[0;34m\u001b[0m\u001b[0m\n\u001b[1;32m      2\u001b[0m \u001b[0;34m\u001b[0m\u001b[0m\n\u001b[0;32m----> 3\u001b[0;31m \u001b[0mhuman_data\u001b[0m \u001b[0;34m=\u001b[0m \u001b[0;34m[\u001b[0m\u001b[0mv\u001b[0m \u001b[0;32mfor\u001b[0m \u001b[0mk\u001b[0m\u001b[0;34m,\u001b[0m\u001b[0mv\u001b[0m \u001b[0;32min\u001b[0m \u001b[0mprocess_data\u001b[0m\u001b[0;34m.\u001b[0m\u001b[0mitems\u001b[0m\u001b[0;34m(\u001b[0m\u001b[0;34m)\u001b[0m\u001b[0;34m]\u001b[0m\u001b[0;34m\u001b[0m\u001b[0;34m\u001b[0m\u001b[0m\n\u001b[0m\u001b[1;32m      4\u001b[0m \u001b[0mindex\u001b[0m \u001b[0;34m=\u001b[0m \u001b[0;34m[\u001b[0m\u001b[0mi\u001b[0m \u001b[0;32mfor\u001b[0m \u001b[0mi\u001b[0m \u001b[0;32min\u001b[0m \u001b[0mrange\u001b[0m\u001b[0;34m(\u001b[0m\u001b[0mlen\u001b[0m\u001b[0;34m(\u001b[0m\u001b[0mprocess_data\u001b[0m\u001b[0;34m)\u001b[0m\u001b[0;34m)\u001b[0m\u001b[0;34m]\u001b[0m\u001b[0;34m\u001b[0m\u001b[0;34m\u001b[0m\u001b[0m\n\u001b[1;32m      5\u001b[0m \u001b[0mfold\u001b[0m \u001b[0;34m=\u001b[0m \u001b[0mfivefold\u001b[0m\u001b[0;34m(\u001b[0m\u001b[0mindex\u001b[0m\u001b[0;34m)\u001b[0m\u001b[0;34m\u001b[0m\u001b[0;34m\u001b[0m\u001b[0m\n",
      "\u001b[0;31mNameError\u001b[0m: name 'process_data' is not defined"
     ]
    }
   ],
   "source": [
    "from sklearn.metrics import f1_score\n",
    "\n",
    "human_data = [v for k,v in process_data.items()]   \n",
    "index = [i for i in range(len(process_data))]\n",
    "fold = fivefold(index)\n",
    "\n",
    "F1_w_low = []\n",
    "\n",
    "F1_w_high = []\n",
    "\n",
    "S = []\n",
    "for train, test in fold:\n",
    "    train_data = [human_data[i].data for i in train]\n",
    "    test_data = [human_data[i].data for i in test]\n",
    "    train_X = [d[feature_columns+[\"decision\"]] for d in train_data]\n",
    "    low_risk, high_risk = generate_hmm_test(human_data, feature_columns, test)\n",
    "    uhmm = Trust_hmm(num_states=3, max_EM_iter=150, EM_tol=1e-6)\n",
    "    uhmm.set_models(model_decisions=[DiscreteMNL(alpha=1, reg_method='l2')],\n",
    "                    model_transition=CrossEntropyMNL(alpha=5, solver='lbfgs', reg_method='l2'),\n",
    "                    model_initial=CrossEntropyMNL(alpha=5, solver='lbfgs', reg_method='l2'))\n",
    "    uhmm.set_inputs(covariates_initial=initial_columns,covariates_transition=transition_columns,\n",
    "                    covariates_emissions=[decision_columns])\n",
    "    uhmm.set_outputs([['decision']])\n",
    "    uhmm.set_data(train_X)\n",
    "    uhmm.train()\n",
    "    f1_w_low = []\n",
    "    test_X_low, test_Y_low = low_risk[\"test_data\"], low_risk[\"test_Y\"]\n",
    "    for i in range(len(test_X_low)):\n",
    "        preds, probs, states = uhmm.predict_new_user(test_X_low[i])\n",
    "        probs_auc = [i[0,1] for i in probs]\n",
    "        f1_w_low.append(f1_score(test_Y_low[i], preds, average='weighted'))\n",
    "        probs = np.concatenate([i for i in probs], axis=0)\n",
    "  \n",
    "      \n"
   ]
  },
  {
   "cell_type": "code",
   "execution_count": 9,
   "id": "17df4053",
   "metadata": {},
   "outputs": [],
   "source": [
    "trust_m = Trust_hmm(num_states=3, max_EM_iter=150, EM_tol=1e-6)\n",
    "trust_m.set_models(model_decisions=[DiscreteMNL(alpha=1, reg_method='l2')],\n",
    "                model_transition=CrossEntropyMNL(alpha=5, solver='lbfgs', reg_method='l2'),\n",
    "                model_initial=CrossEntropyMNL(alpha=5, solver='lbfgs', reg_method='l2'))\n",
    "trust_m.set_inputs(covariates_initial=initial_columns,covariates_transition=transition_columns,\n",
    "                covariates_emissions=[decision_columns])\n",
    "trust_m.set_outputs([['decision']])"
   ]
  },
  {
   "cell_type": "code",
   "execution_count": 11,
   "id": "b4bf7e29",
   "metadata": {},
   "outputs": [
    {
     "data": {
      "text/plain": [
       "<bound method BaseMNL.predict_log_proba of <linear_models.CrossEntropyMNL object at 0x7fd5438f6700>>"
      ]
     },
     "execution_count": 11,
     "metadata": {},
     "output_type": "execute_result"
    }
   ],
   "source": [
    "trust_m.model_transition[0].predict_log_proba"
   ]
  },
  {
   "cell_type": "code",
   "execution_count": 12,
   "id": "d0c68e8c",
   "metadata": {},
   "outputs": [
    {
     "ename": "TypeError",
     "evalue": "predict_log_proba() missing 1 required positional argument: 'X'",
     "output_type": "error",
     "traceback": [
      "\u001b[0;31m---------------------------------------------------------------------------\u001b[0m",
      "\u001b[0;31mTypeError\u001b[0m                                 Traceback (most recent call last)",
      "\u001b[0;32m/var/folders/dy/kwk0q56105vcyx4cm7ryb62w0000gn/T/ipykernel_12192/3160216559.py\u001b[0m in \u001b[0;36m<module>\u001b[0;34m\u001b[0m\n\u001b[0;32m----> 1\u001b[0;31m \u001b[0mprob_initial\u001b[0m \u001b[0;34m=\u001b[0m \u001b[0mnp\u001b[0m\u001b[0;34m.\u001b[0m\u001b[0mexp\u001b[0m\u001b[0;34m(\u001b[0m\u001b[0mtrust_m\u001b[0m\u001b[0;34m.\u001b[0m\u001b[0mmodel_initial\u001b[0m\u001b[0;34m.\u001b[0m\u001b[0mpredict_log_proba\u001b[0m\u001b[0;34m(\u001b[0m\u001b[0;34m)\u001b[0m\u001b[0;34m.\u001b[0m\u001b[0mreshape\u001b[0m\u001b[0;34m(\u001b[0m\u001b[0mtrust_m\u001b[0m\u001b[0;34m.\u001b[0m\u001b[0mnum_states\u001b[0m\u001b[0;34m,\u001b[0m \u001b[0;34m)\u001b[0m\u001b[0;34m)\u001b[0m\u001b[0;34m\u001b[0m\u001b[0;34m\u001b[0m\u001b[0m\n\u001b[0m",
      "\u001b[0;31mTypeError\u001b[0m: predict_log_proba() missing 1 required positional argument: 'X'"
     ]
    }
   ],
   "source": [
    "prob_initial = np.exp(trust_m.model_initial.predict_log_proba().reshape(trust_m.num_states, ))"
   ]
  },
  {
   "cell_type": "code",
   "execution_count": 13,
   "id": "9dcae60c",
   "metadata": {},
   "outputs": [
    {
     "data": {
      "text/plain": [
       "3"
      ]
     },
     "execution_count": 13,
     "metadata": {},
     "output_type": "execute_result"
    }
   ],
   "source": [
    "trust_m.num_states"
   ]
  },
  {
   "cell_type": "raw",
   "id": "0021c05c",
   "metadata": {},
   "source": []
  },
  {
   "cell_type": "code",
   "execution_count": null,
   "id": "a19db767",
   "metadata": {},
   "outputs": [],
   "source": [
    "def trust_transition(model, inputs, state_dst):\n",
    "    "
   ]
  }
 ],
 "metadata": {
  "kernelspec": {
   "display_name": "Python 3 (ipykernel)",
   "language": "python",
   "name": "python3"
  },
  "language_info": {
   "codemirror_mode": {
    "name": "ipython",
    "version": 3
   },
   "file_extension": ".py",
   "mimetype": "text/x-python",
   "name": "python",
   "nbconvert_exporter": "python",
   "pygments_lexer": "ipython3",
   "version": "3.9.12"
  },
  "vscode": {
   "interpreter": {
    "hash": "685ef0cffa40cddddc672a70da356b3b64b48bf05cb3d7fba753d455d3ce387a"
   }
  }
 },
 "nbformat": 4,
 "nbformat_minor": 5
}
